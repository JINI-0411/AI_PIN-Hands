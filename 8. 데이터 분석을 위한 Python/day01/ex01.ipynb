{
 "cells": [
  {
   "cell_type": "code",
   "execution_count": 2,
   "id": "3d614925-1050-4cb2-9374-045f821fee53",
   "metadata": {},
   "outputs": [
    {
     "data": {
      "text/plain": [
       "8"
      ]
     },
     "execution_count": 2,
     "metadata": {},
     "output_type": "execute_result"
    }
   ],
   "source": [
    "# ** : 제곱 연산\n",
    "2**3 # 2의 3제곱"
   ]
  },
  {
   "cell_type": "code",
   "execution_count": 6,
   "id": "5bdd1eb8-4fe6-4c56-9ddc-6dd25937c32a",
   "metadata": {},
   "outputs": [
    {
     "name": "stdout",
     "output_type": "stream",
     "text": [
      "1\n",
      "4\n"
     ]
    }
   ],
   "source": [
    "# % : 나머지 연산자\n",
    "# // : 몫을 구하는 연산자\n",
    "\n",
    "print(9%2)\n",
    "print(9//2)"
   ]
  },
  {
   "cell_type": "code",
   "execution_count": 10,
   "id": "364b1388-47d6-4610-a1b4-bbb8a3c53ee4",
   "metadata": {},
   "outputs": [
    {
     "data": {
      "text/plain": [
       "str"
      ]
     },
     "execution_count": 10,
     "metadata": {},
     "output_type": "execute_result"
    }
   ],
   "source": [
    "# a = 100\n",
    "# a=100.123\n",
    "# a = \"Python\"\n",
    "a = 'Python'\n",
    "type(a) # 자료형 체크 함수"
   ]
  },
  {
   "cell_type": "code",
   "execution_count": 11,
   "id": "d0c89120-738a-4987-b138-60eccf1cef99",
   "metadata": {},
   "outputs": [
    {
     "data": {
      "text/plain": [
       "\"Python's favorite food is perl\""
      ]
     },
     "execution_count": 11,
     "metadata": {},
     "output_type": "execute_result"
    }
   ],
   "source": [
    "\"Python's favorite food is perl\" # 문장에 작은 따옴표가 섞여 있는 경우 큰 따옴표(\") 사용"
   ]
  },
  {
   "cell_type": "code",
   "execution_count": 18,
   "id": "c0e41852-75f6-4989-955a-3a34784bc3e8",
   "metadata": {},
   "outputs": [
    {
     "data": {
      "text/plain": [
       "'Python\"s favorite food is perl'"
      ]
     },
     "execution_count": 18,
     "metadata": {},
     "output_type": "execute_result"
    }
   ],
   "source": [
    "# 'Python's favorite food is perl' - 오류발생 (문법오류)\n",
    "'Python\\'s favorite food is perl' #\\' - 작은 따옴표 인식 가능 \\ - escape 문자\n",
    "\"Python\\\"s favorite food is perl\" #\\\" - 큰 따옴표 인식 가능"
   ]
  },
  {
   "cell_type": "code",
   "execution_count": 17,
   "id": "eda4c9da-d0af-44ee-b281-ef851ea6a45b",
   "metadata": {},
   "outputs": [
    {
     "name": "stdout",
     "output_type": "stream",
     "text": [
      "Life is short, \n",
      "You need python\n"
     ]
    }
   ],
   "source": [
    "a = \"Life is short, \\nYou need python\" # |n - 메타 문자 / 줄 개행\n",
    "print(a)"
   ]
  },
  {
   "cell_type": "code",
   "execution_count": 19,
   "id": "44633102-5cc4-427e-b9c8-6001ea4e146a",
   "metadata": {},
   "outputs": [
    {
     "name": "stdout",
     "output_type": "stream",
     "text": [
      "Life is short,\n",
      "You need python\n"
     ]
    }
   ],
   "source": [
    "b=\"\"\"Life is short,\n",
    "You need python\"\"\" # \"\"\"또는 '''모두 가능!\n",
    "print(b)"
   ]
  },
  {
   "cell_type": "code",
   "execution_count": 21,
   "id": "c5e20596-e6a3-42cb-ba31-8212db5ce429",
   "metadata": {},
   "outputs": [
    {
     "data": {
      "text/plain": [
       "'python is fun!'"
      ]
     },
     "execution_count": 21,
     "metadata": {},
     "output_type": "execute_result"
    }
   ],
   "source": [
    "\"python\" + \" is\" + \" fun!\""
   ]
  },
  {
   "cell_type": "code",
   "execution_count": 22,
   "id": "8c584739-73e6-40f4-a8a2-e5c5a231ce0d",
   "metadata": {},
   "outputs": [
    {
     "data": {
      "text/plain": [
       "'pythonpythonpython'"
      ]
     },
     "execution_count": 22,
     "metadata": {},
     "output_type": "execute_result"
    }
   ],
   "source": [
    "\"python\" *3"
   ]
  },
  {
   "cell_type": "code",
   "execution_count": 24,
   "id": "d9a559bb-b7f0-4808-b2a4-dfa86c5f193b",
   "metadata": {},
   "outputs": [
    {
     "name": "stdout",
     "output_type": "stream",
     "text": [
      "==============================\n",
      "재미있는 파이썬 공부!\n",
      "==============================\n"
     ]
    }
   ],
   "source": [
    "print(\"=\" * 30)\n",
    "print(\"재미있는 파이썬 공부!\")\n",
    "print(\"=\" *30)"
   ]
  },
  {
   "cell_type": "code",
   "execution_count": 25,
   "id": "d78e680a-70ca-475b-bd6c-1140914b7933",
   "metadata": {},
   "outputs": [
    {
     "data": {
      "text/plain": [
       "5"
      ]
     },
     "execution_count": 25,
     "metadata": {},
     "output_type": "execute_result"
    }
   ],
   "source": [
    "a=\"가나다라마\"\n",
    "len(a)"
   ]
  },
  {
   "cell_type": "code",
   "execution_count": 26,
   "id": "9ecb6563-cddb-461d-9d7b-20f56f7b6b97",
   "metadata": {},
   "outputs": [],
   "source": [
    "a=\"Life is too short, You need Python\""
   ]
  },
  {
   "cell_type": "code",
   "execution_count": 46,
   "id": "1b7bc27b-5f57-4111-94e6-f5218195c5bc",
   "metadata": {},
   "outputs": [
    {
     "name": "stdout",
     "output_type": "stream",
     "text": [
      "Life is too short, You need Python\n",
      "Life 1961535063840 1961546864864\n"
     ]
    }
   ],
   "source": [
    "b= a[:] # 문자열 전체 복사\n",
    "print(b)\n",
    "# print(id(a), id(b))\n",
    "print(a[0:4], id(a[0:4]), id(a))"
   ]
  },
  {
   "cell_type": "code",
   "execution_count": 43,
   "id": "7a03cc6c-cdf3-4903-9a4f-0d8e75999423",
   "metadata": {},
   "outputs": [
    {
     "data": {
      "text/plain": [
       "'Life is too short, You need'"
      ]
     },
     "execution_count": 43,
     "metadata": {},
     "output_type": "execute_result"
    }
   ],
   "source": [
    "# a[-6:-1]\n",
    "a[-6:] # -6 인덱스 위치부터 끝까지\n",
    "a[:-7] # 0 ~ -8 까지"
   ]
  },
  {
   "cell_type": "code",
   "execution_count": 41,
   "id": "817cca5c-00d1-4ae2-9ef5-dfc4f3d1da65",
   "metadata": {},
   "outputs": [
    {
     "data": {
      "text/plain": [
       "'Python'"
      ]
     },
     "execution_count": 41,
     "metadata": {},
     "output_type": "execute_result"
    }
   ],
   "source": [
    "a[28:]"
   ]
  },
  {
   "cell_type": "code",
   "execution_count": 36,
   "id": "00daece8-f355-4259-bd17-c80e02705914",
   "metadata": {},
   "outputs": [
    {
     "data": {
      "text/plain": [
       "'Life'"
      ]
     },
     "execution_count": 36,
     "metadata": {},
     "output_type": "execute_result"
    }
   ],
   "source": [
    "a[0:4] # 0,1,2,3"
   ]
  },
  {
   "cell_type": "code",
   "execution_count": 34,
   "id": "62ecd04c-84a0-44b7-b3d4-9390de372107",
   "metadata": {},
   "outputs": [
    {
     "data": {
      "text/plain": [
       "'n'"
      ]
     },
     "execution_count": 34,
     "metadata": {},
     "output_type": "execute_result"
    }
   ],
   "source": [
    "a[-1]"
   ]
  },
  {
   "cell_type": "code",
   "execution_count": 35,
   "id": "99ff685c-c620-4ce9-9587-24f638f5d488",
   "metadata": {},
   "outputs": [
    {
     "data": {
      "text/plain": [
       "'f'"
      ]
     },
     "execution_count": 35,
     "metadata": {},
     "output_type": "execute_result"
    }
   ],
   "source": [
    "a[2]"
   ]
  },
  {
   "cell_type": "code",
   "execution_count": 28,
   "id": "2aab1dc3-c203-4967-b91a-edb419ba32e0",
   "metadata": {},
   "outputs": [
    {
     "ename": "TypeError",
     "evalue": "'str' object does not support item assignment",
     "output_type": "error",
     "traceback": [
      "\u001b[1;31m---------------------------------------------------------------------------\u001b[0m",
      "\u001b[1;31mTypeError\u001b[0m                                 Traceback (most recent call last)",
      "Cell \u001b[1;32mIn[28], line 1\u001b[0m\n\u001b[1;32m----> 1\u001b[0m a[\u001b[38;5;241m2\u001b[39m] \u001b[38;5;241m=\u001b[39m \u001b[38;5;124m'\u001b[39m\u001b[38;5;124mF\u001b[39m\u001b[38;5;124m'\u001b[39m\n",
      "\u001b[1;31mTypeError\u001b[0m: 'str' object does not support item assignment"
     ]
    }
   ],
   "source": [
    "a[2] = 'F'"
   ]
  },
  {
   "cell_type": "code",
   "execution_count": 30,
   "id": "7751e74b-ea02-480f-900f-139109563d4b",
   "metadata": {},
   "outputs": [
    {
     "name": "stdout",
     "output_type": "stream",
     "text": [
      "140712025998256\n",
      "1961535063840\n",
      "ABCDEF\n"
     ]
    }
   ],
   "source": [
    "b = 'ABC' # id(...) 자원의 주소를 조회하는 함수\n",
    "print(id(b))\n",
    "b += \"DEF\"\n",
    "print(id(b)) # 문자열은 불변! 새로 추가하면 새로운 문자열 객체가 생성\n",
    "print(b)"
   ]
  },
  {
   "cell_type": "code",
   "execution_count": 48,
   "id": "19914224-40a0-4874-80c3-be7483a8b669",
   "metadata": {},
   "outputs": [
    {
     "name": "stdout",
     "output_type": "stream",
     "text": [
      "Python\n"
     ]
    }
   ],
   "source": [
    "a = \"Pithon\" # Python 변경 하시오\n",
    "#a[1] = 'y'\n",
    "b=a[0] + 'y' + a[2:]\n",
    "print(b)"
   ]
  },
  {
   "cell_type": "code",
   "execution_count": 52,
   "id": "46fa65ed-eb7b-42b3-8c6a-1b824c3a18ee",
   "metadata": {},
   "outputs": [
    {
     "data": {
      "text/plain": [
       "'I eat three apples.'"
      ]
     },
     "execution_count": 52,
     "metadata": {},
     "output_type": "execute_result"
    }
   ],
   "source": [
    "# \"I eat %d apples.\" %3\n",
    "\"I eat %s apples.\" % \"three\""
   ]
  },
  {
   "cell_type": "code",
   "execution_count": 53,
   "id": "ec83b248-eacb-4e0c-aba6-aa19560d3ed4",
   "metadata": {},
   "outputs": [
    {
     "data": {
      "text/plain": [
       "'I eat 3 apples and 5 breads'"
      ]
     },
     "execution_count": 53,
     "metadata": {},
     "output_type": "execute_result"
    }
   ],
   "source": [
    "\"I eat %d apples and %d breads\" % (3, 5) # String.format(...)"
   ]
  },
  {
   "cell_type": "code",
   "execution_count": 55,
   "id": "46d7fa23-f95f-44c7-96a4-28ed58bdc563",
   "metadata": {},
   "outputs": [
    {
     "data": {
      "text/plain": [
       "'loading is now 78'"
      ]
     },
     "execution_count": 55,
     "metadata": {},
     "output_type": "execute_result"
    }
   ],
   "source": [
    "\"loading is now %d\" % 78 # % : 형식화를 위한 문법적 문자로 인식하므로 %%를 써야 %문자로 인식"
   ]
  },
  {
   "cell_type": "code",
   "execution_count": 57,
   "id": "0a3797e2-f1b7-4255-8886-cbef85b2d80d",
   "metadata": {},
   "outputs": [
    {
     "data": {
      "text/plain": [
       "'ABC       DEF'"
      ]
     },
     "execution_count": 57,
     "metadata": {},
     "output_type": "execute_result"
    }
   ],
   "source": [
    "\"ABC%10s\" % \"DEF\""
   ]
  },
  {
   "cell_type": "code",
   "execution_count": 58,
   "id": "e2015de2-32d1-4584-9496-e0d76690b9b4",
   "metadata": {},
   "outputs": [
    {
     "data": {
      "text/plain": [
       "'ABC       DEF'"
      ]
     },
     "execution_count": 58,
     "metadata": {},
     "output_type": "execute_result"
    }
   ],
   "source": [
    "\"%-10sDEF\" % \"ABC\""
   ]
  },
  {
   "cell_type": "code",
   "execution_count": 59,
   "id": "f9af3921-6141-49e4-9223-79415ca4baac",
   "metadata": {},
   "outputs": [
    {
     "data": {
      "text/plain": [
       "'   12.1235'"
      ]
     },
     "execution_count": 59,
     "metadata": {},
     "output_type": "execute_result"
    }
   ],
   "source": [
    "\"%10.4f\" % 12.12345678"
   ]
  },
  {
   "cell_type": "code",
   "execution_count": 61,
   "id": "e3ae2dd3-6578-4464-97bc-078ac16548cc",
   "metadata": {},
   "outputs": [
    {
     "data": {
      "text/plain": [
       "'12341234.1234'"
      ]
     },
     "execution_count": 61,
     "metadata": {},
     "output_type": "execute_result"
    }
   ],
   "source": [
    "# \"%0.4f\" % 12341234.12341234\n",
    "\"%.4f\" % 12341234.12341234"
   ]
  },
  {
   "cell_type": "code",
   "execution_count": 67,
   "id": "7c8408ca-f0c6-4c18-9566-ce057b918237",
   "metadata": {},
   "outputs": [
    {
     "data": {
      "text/plain": [
       "'I eat 3,5 apples and five breads'"
      ]
     },
     "execution_count": 67,
     "metadata": {},
     "output_type": "execute_result"
    }
   ],
   "source": [
    "# \"I eat {0} apples.\".format(3)\n",
    "# \"I eat {0} apples.\".format(\"three\")\n",
    "# \"I eat {0} apples and {1} breads\".format(3, \"five\")\n",
    "# \"I eat {num1} apples and {num2} breads\".format(num2=5, num1=3)\n",
    "\"I eat {0},{1} apples and {num} breads\".format(3,5, num=\"five\")"
   ]
  },
  {
   "cell_type": "code",
   "execution_count": 73,
   "id": "99097007-89da-47c3-a829-dca78bcdd05d",
   "metadata": {},
   "outputs": [
    {
     "data": {
      "text/plain": [
       "'안녕        '"
      ]
     },
     "execution_count": 73,
     "metadata": {},
     "output_type": "execute_result"
    }
   ],
   "source": [
    "\"{0:<10}\".format(\"안녕\")"
   ]
  },
  {
   "cell_type": "code",
   "execution_count": 83,
   "id": "9db78d73-8ba6-4be5-8d76-ce209ebe67a3",
   "metadata": {},
   "outputs": [
    {
     "data": {
      "text/plain": [
       "'!!!!!!!!안녕'"
      ]
     },
     "execution_count": 83,
     "metadata": {},
     "output_type": "execute_result"
    }
   ],
   "source": [
    "\"{0:!>10}\".format(\"안녕\")"
   ]
  },
  {
   "cell_type": "code",
   "execution_count": 71,
   "id": "f321284c-92f7-465b-817b-19a8f663c00c",
   "metadata": {},
   "outputs": [
    {
     "data": {
      "text/plain": [
       "'****안녕****'"
      ]
     },
     "execution_count": 71,
     "metadata": {},
     "output_type": "execute_result"
    }
   ],
   "source": [
    "# \"{0:^10}\".format(\"안녕\")\n",
    "\"{0:*^10}\".format(\"안녕\") # 공백을 *로 채워 넣는다."
   ]
  },
  {
   "cell_type": "code",
   "execution_count": 74,
   "id": "5bb4ba8e-a297-4560-94be-571f313c268e",
   "metadata": {},
   "outputs": [
    {
     "data": {
      "text/plain": [
       "'100.123'"
      ]
     },
     "execution_count": 74,
     "metadata": {},
     "output_type": "execute_result"
    }
   ],
   "source": [
    "\"{0:0.3f}\".format(100.12345678)"
   ]
  },
  {
   "cell_type": "code",
   "execution_count": 76,
   "id": "af1bb964-f121-4912-9827-48a3fdadb069",
   "metadata": {},
   "outputs": [
    {
     "data": {
      "text/plain": [
       "'{   number1   } - 100'"
      ]
     },
     "execution_count": 76,
     "metadata": {},
     "output_type": "execute_result"
    }
   ],
   "source": [
    "\"{{   number1   }} - {0}\".format(100) # {}를 문자로 인식하려면 {{}}"
   ]
  },
  {
   "cell_type": "code",
   "execution_count": 78,
   "id": "49a8a96c-bce4-4102-aa0a-2cd14ed74867",
   "metadata": {},
   "outputs": [
    {
     "data": {
      "text/plain": [
       "'num1=10, num2=20, result=30'"
      ]
     },
     "execution_count": 78,
     "metadata": {},
     "output_type": "execute_result"
    }
   ],
   "source": [
    "num1 = 10\n",
    "num2 = 20\n",
    "# f\" 또는 f''\n",
    "f\"num1={num1}, num2={num2}, result={num1+num2}\" # 파이썬 3.6버전 부터 도입된 문법 "
   ]
  },
  {
   "cell_type": "code",
   "execution_count": 79,
   "id": "bc4e29a5-9de0-433a-a4a6-ceb62c23042c",
   "metadata": {},
   "outputs": [
    {
     "data": {
      "text/plain": [
       "'안녕        '"
      ]
     },
     "execution_count": 79,
     "metadata": {},
     "output_type": "execute_result"
    }
   ],
   "source": [
    "f\"{'안녕':<10}\""
   ]
  },
  {
   "cell_type": "code",
   "execution_count": 80,
   "id": "958fb3fe-8478-46ca-a1e9-37d7254980dc",
   "metadata": {},
   "outputs": [
    {
     "data": {
      "text/plain": [
       "'        안녕'"
      ]
     },
     "execution_count": 80,
     "metadata": {},
     "output_type": "execute_result"
    }
   ],
   "source": [
    "f\"{'안녕':>10}\""
   ]
  },
  {
   "cell_type": "code",
   "execution_count": 81,
   "id": "ada8d246-71cb-4c37-b8f7-1cac0fba3003",
   "metadata": {},
   "outputs": [
    {
     "data": {
      "text/plain": [
       "'    안녕    '"
      ]
     },
     "execution_count": 81,
     "metadata": {},
     "output_type": "execute_result"
    }
   ],
   "source": [
    "f\"{'안녕':^10}\""
   ]
  },
  {
   "cell_type": "code",
   "execution_count": 82,
   "id": "f46ef8cb-491d-474f-a588-357b76ad074c",
   "metadata": {},
   "outputs": [
    {
     "data": {
      "text/plain": [
       "'****안녕****'"
      ]
     },
     "execution_count": 82,
     "metadata": {},
     "output_type": "execute_result"
    }
   ],
   "source": [
    "f\"{'안녕':*^10}\""
   ]
  },
  {
   "cell_type": "code",
   "execution_count": 84,
   "id": "e93ded5f-a506-46a5-9721-c0256b369433",
   "metadata": {},
   "outputs": [],
   "source": [
    "a = \"Life is too short, You need Python.\""
   ]
  },
  {
   "cell_type": "code",
   "execution_count": 86,
   "id": "39bb84c8-d057-4f01-9c2b-52d5a2a64eea",
   "metadata": {},
   "outputs": [
    {
     "data": {
      "text/plain": [
       "8"
      ]
     },
     "execution_count": 86,
     "metadata": {},
     "output_type": "execute_result"
    }
   ],
   "source": [
    "a.find(\"too\")"
   ]
  },
  {
   "cell_type": "code",
   "execution_count": 87,
   "id": "970cc615-77b0-45cb-816a-e0802dff1e4d",
   "metadata": {},
   "outputs": [
    {
     "data": {
      "text/plain": [
       "-1"
      ]
     },
     "execution_count": 87,
     "metadata": {},
     "output_type": "execute_result"
    }
   ],
   "source": [
    "a.find(\"tooo\")"
   ]
  },
  {
   "cell_type": "code",
   "execution_count": 88,
   "id": "156ccf77-c87e-4ac9-a066-5e72a8e5528b",
   "metadata": {},
   "outputs": [
    {
     "data": {
      "text/plain": [
       "8"
      ]
     },
     "execution_count": 88,
     "metadata": {},
     "output_type": "execute_result"
    }
   ],
   "source": [
    "a.index(\"too\")"
   ]
  },
  {
   "cell_type": "code",
   "execution_count": 89,
   "id": "1aa06598-1930-495c-bb6f-4c382b514996",
   "metadata": {},
   "outputs": [
    {
     "ename": "ValueError",
     "evalue": "substring not found",
     "output_type": "error",
     "traceback": [
      "\u001b[1;31m---------------------------------------------------------------------------\u001b[0m",
      "\u001b[1;31mValueError\u001b[0m                                Traceback (most recent call last)",
      "Cell \u001b[1;32mIn[89], line 1\u001b[0m\n\u001b[1;32m----> 1\u001b[0m a\u001b[38;5;241m.\u001b[39mindex(\u001b[38;5;124m\"\u001b[39m\u001b[38;5;124mtooo\u001b[39m\u001b[38;5;124m\"\u001b[39m)\n",
      "\u001b[1;31mValueError\u001b[0m: substring not found"
     ]
    }
   ],
   "source": [
    "a.index(\"tooo\")"
   ]
  },
  {
   "cell_type": "code",
   "execution_count": null,
   "id": "066d266a-85a4-4dbb-ac33-79b727ed73b5",
   "metadata": {},
   "outputs": [],
   "source": []
  },
  {
   "cell_type": "code",
   "execution_count": null,
   "id": "edf2637a-5864-4e1d-8de6-ac08d41f00ca",
   "metadata": {},
   "outputs": [],
   "source": []
  }
 ],
 "metadata": {
  "kernelspec": {
   "display_name": "Python 3 (ipykernel)",
   "language": "python",
   "name": "python3"
  },
  "language_info": {
   "codemirror_mode": {
    "name": "ipython",
    "version": 3
   },
   "file_extension": ".py",
   "mimetype": "text/x-python",
   "name": "python",
   "nbconvert_exporter": "python",
   "pygments_lexer": "ipython3",
   "version": "3.12.7"
  }
 },
 "nbformat": 4,
 "nbformat_minor": 5
}
