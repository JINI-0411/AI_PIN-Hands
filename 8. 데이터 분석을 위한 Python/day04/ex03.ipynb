{
 "cells": [
  {
   "cell_type": "code",
   "execution_count": 25,
   "id": "87f6c8db-359b-40cb-95b7-645c446c23ab",
   "metadata": {},
   "outputs": [],
   "source": [
    "class Calculator:\n",
    "    # Calculator() 호출시 가장 먼저 호출되는 메서드\n",
    "    # 객체 변수(인스턴스 변수) 초기화 작업을 주로 담당\n",
    "    def __init__(self, a, b):\n",
    "        self.a = a\n",
    "        self.b = b\n",
    "        \n",
    "    # self: 객체 자원 중 객체 변수(인스턴스 변수)를 접근하기 위한 수단 // this와 비슷\n",
    "    def add(self): \n",
    "        return self.a + self.b # 객체 변수 a, 객체 변수 b를 더한다.\n",
    "    def sub(self):\n",
    "        return self.a - self.b\n",
    "    def mul(self):\n",
    "        return self.a * self.b\n",
    "    def div(self):\n",
    "        return self.a / self.b"
   ]
  },
  {
   "cell_type": "code",
   "execution_count": 26,
   "id": "9f3d2c4f-e6f9-4ea6-b225-dba1af7e7228",
   "metadata": {},
   "outputs": [],
   "source": [
    "# cal = Calculator()\n",
    "cal = Calculator(10,20)"
   ]
  },
  {
   "cell_type": "code",
   "execution_count": 30,
   "id": "71e4e412-5ab7-42c9-95be-47962be2fec6",
   "metadata": {},
   "outputs": [
    {
     "data": {
      "text/plain": [
       "0.5"
      ]
     },
     "execution_count": 30,
     "metadata": {},
     "output_type": "execute_result"
    }
   ],
   "source": [
    "#cal.a = 10 # 객체 변수(인스턴스 변수)\n",
    "#cal.b = 20\n",
    "# Calculator.add(cal)\n",
    "cal.add() # 참조변수 통해서 self를 호출함\n",
    "cal.sub()\n",
    "cal.mul()\n",
    "cal.div()"
   ]
  },
  {
   "cell_type": "code",
   "execution_count": 53,
   "id": "5dac2f36-8e6f-4c8e-b77f-9f464bd80f02",
   "metadata": {},
   "outputs": [],
   "source": [
    "class ProCalculator(Calculator): # 상속, ProCalculator - 자식, Calculator - 부모\n",
    "    def div(self): # Calculator에 정의된 div를 재정의, 메서드 재정의\n",
    "        if self.b == 0:\n",
    "            return 0\n",
    "\n",
    "        return Calculator.div(self) # 부모쪽의 기능 재정의를 할 때 이렇게 사용가능함\n",
    "        #return self.a / self.b\n",
    "\n",
    "    def square(self, x):\n",
    "        return x ** 2"
   ]
  },
  {
   "cell_type": "code",
   "execution_count": 54,
   "id": "e2a15ddc-5f7d-48d6-b76b-c9ec8c7b6b47",
   "metadata": {},
   "outputs": [
    {
     "data": {
      "text/plain": [
       "0"
      ]
     },
     "execution_count": 54,
     "metadata": {},
     "output_type": "execute_result"
    }
   ],
   "source": [
    "cal2 = ProCalculator(10,0)\n",
    "cal2.num = 10\n",
    "cal2.div()\n",
    "ProCalculator.div(cal2)"
   ]
  },
  {
   "cell_type": "code",
   "execution_count": 38,
   "id": "761d9a8f-4d2a-4740-ae27-0b78ed78597c",
   "metadata": {},
   "outputs": [
    {
     "data": {
      "text/plain": [
       "30"
      ]
     },
     "execution_count": 38,
     "metadata": {},
     "output_type": "execute_result"
    }
   ],
   "source": [
    "cal2 = ProCalculator(10,20)\n",
    "cal2.add()"
   ]
  },
  {
   "cell_type": "code",
   "execution_count": 44,
   "id": "7dcf9464-e60c-4065-acc7-4924bbcbbc4d",
   "metadata": {},
   "outputs": [],
   "source": [
    "class Student:\n",
    "    def __init__(self, id, name, major): \n",
    "        # 객체자원에 접근하기 위한거라 self매개변수는 꼭 있어야함\n",
    "        self.id = id\n",
    "        self.name = name\n",
    "        self.major = major\n",
    "\n",
    "    '''\n",
    "    자바의 toString() 메서드와 유사!\n",
    "    '''\n",
    "    def __str__(self):\n",
    "        return f'id={self.id}, name={self.name}, major={self.major}'\n",
    "        "
   ]
  },
  {
   "cell_type": "code",
   "execution_count": 45,
   "id": "067b0456-fdc3-45ff-863b-a45b5e5a2004",
   "metadata": {},
   "outputs": [
    {
     "name": "stdout",
     "output_type": "stream",
     "text": [
      "id=1000, name=이이름, major=파이썬\n"
     ]
    }
   ],
   "source": [
    "s1 = Student(1000, \"이이름\", \"파이썬\")\n",
    "print(s1)      # def __str__(self)"
   ]
  },
  {
   "cell_type": "code",
   "execution_count": 48,
   "id": "69f6590e-4e85-48ab-a9e1-9f9464f391f3",
   "metadata": {},
   "outputs": [],
   "source": [
    "class Multiply:\n",
    "    def __init__(self,num):\n",
    "        self.num = num\n",
    "\n",
    "    # 객체의 참조 변수를 함수 처럼 호출 했을때 실행\n",
    "    def __call__(self, num):\n",
    "        return self.num * num\n",
    "\n",
    "    def __str__(self):\n",
    "        return str(self.num)"
   ]
  },
  {
   "cell_type": "code",
   "execution_count": 52,
   "id": "37148de5-ca4f-483a-91be-6e0647f91ec6",
   "metadata": {},
   "outputs": [
    {
     "name": "stdout",
     "output_type": "stream",
     "text": [
      "200\n",
      "10\n"
     ]
    }
   ],
   "source": [
    "mul = Multiply(10) # __init__(self, num) 호출\n",
    "result = mul(20) # __call__(self, num) 호출     \n",
    "print(result)\n",
    "print(mul) # __str__(self) 호출"
   ]
  },
  {
   "cell_type": "code",
   "execution_count": 61,
   "id": "99e84651-9b8c-48e4-b89d-84cc20ef7200",
   "metadata": {},
   "outputs": [],
   "source": [
    "class Family:\n",
    "    lastname = '이' # 클래스변수 - 객체 생성 상관없이 접근 가능, self.변수 - 인스턴스 변수(객체 생성시 접근 가능)"
   ]
  },
  {
   "cell_type": "code",
   "execution_count": 59,
   "id": "8534b57a-d9eb-4d95-a15c-07b1d4a65cda",
   "metadata": {},
   "outputs": [],
   "source": [
    "# Family.lastname = \"이\" # 클래스 변수, 정적 변수, 다른 객체가 공유할 목적의 변수"
   ]
  },
  {
   "cell_type": "code",
   "execution_count": 63,
   "id": "ca2179b1-0433-4328-bd49-2b73369a2b3c",
   "metadata": {},
   "outputs": [
    {
     "name": "stdout",
     "output_type": "stream",
     "text": [
      "f1: 김\n",
      "f2: 이\n"
     ]
    }
   ],
   "source": [
    "f1 = Family()\n",
    "f2 = Family()\n",
    "\n",
    "f1.lastname = '김' # 인스턴스 변수(객체 변수)\n",
    "print(\"f1: %s\" % f1.lastname) # f1.lastname : 인스턴스 변수와 헷갈림!, 클래스명으로 직접 접근! Family.lastname\n",
    "print(\"f2: %s\" % f2.lastname)"
   ]
  },
  {
   "cell_type": "code",
   "execution_count": 68,
   "id": "e0aac43b-c9a0-4e9d-8ccb-6c07ed170556",
   "metadata": {},
   "outputs": [],
   "source": [
    "class Bird:\n",
    "    def fly(self):\n",
    "        raise NotImplementedError # raise는 파이썬에서 예외를 발생시키는 예약어"
   ]
  },
  {
   "cell_type": "code",
   "execution_count": 71,
   "id": "1c76188c-fd99-4e12-be68-a78b2afab8f4",
   "metadata": {},
   "outputs": [],
   "source": [
    "class Eagle(Bird):\n",
    "    def fly(self): # 메서드 재정의\n",
    "        print(\"독수리가 아주 빠르게 날아간다!\")"
   ]
  },
  {
   "cell_type": "code",
   "execution_count": 72,
   "id": "6bd54605-25d4-4596-91dc-a607db30ce81",
   "metadata": {},
   "outputs": [
    {
     "name": "stdout",
     "output_type": "stream",
     "text": [
      "독수리가 아주 빠르게 날아간다!\n"
     ]
    }
   ],
   "source": [
    "e1 = Eagle()\n",
    "e1.fly()"
   ]
  },
  {
   "cell_type": "code",
   "execution_count": null,
   "id": "bc5f474b-84ff-4edc-883f-8657cacc3911",
   "metadata": {},
   "outputs": [],
   "source": []
  },
  {
   "cell_type": "code",
   "execution_count": null,
   "id": "2154bd23-c38e-48f4-990b-7a7aa048a0f5",
   "metadata": {},
   "outputs": [],
   "source": []
  },
  {
   "cell_type": "code",
   "execution_count": null,
   "id": "14079939-d2b6-4ebe-8e5f-aeef36ac008a",
   "metadata": {},
   "outputs": [],
   "source": []
  },
  {
   "cell_type": "code",
   "execution_count": null,
   "id": "c06e8574-1e72-4c9c-84f6-a29d51e1ceca",
   "metadata": {},
   "outputs": [],
   "source": []
  },
  {
   "cell_type": "code",
   "execution_count": null,
   "id": "baf62543-8ca7-4828-bf27-5b27e7c01def",
   "metadata": {},
   "outputs": [],
   "source": []
  }
 ],
 "metadata": {
  "kernelspec": {
   "display_name": "Python 3 (ipykernel)",
   "language": "python",
   "name": "python3"
  },
  "language_info": {
   "codemirror_mode": {
    "name": "ipython",
    "version": 3
   },
   "file_extension": ".py",
   "mimetype": "text/x-python",
   "name": "python",
   "nbconvert_exporter": "python",
   "pygments_lexer": "ipython3",
   "version": "3.12.7"
  }
 },
 "nbformat": 4,
 "nbformat_minor": 5
}
