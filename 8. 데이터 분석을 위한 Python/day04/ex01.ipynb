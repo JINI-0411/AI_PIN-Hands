{
 "cells": [
  {
   "cell_type": "code",
   "execution_count": 2,
   "id": "7c5d5948-b987-469b-b45f-2123528b116a",
   "metadata": {},
   "outputs": [],
   "source": [
    "f=open('D:/data.txt','w') # w - 쓰기, 지정된 경로에 파일이 없는 경우 새파일 하나 생성!\n",
    "for i in range(1,11): # 1~10 - 10회 반복\n",
    "    f.write(\"%d번 라인\\n\"%i)\n",
    "    \n",
    "f.close()"
   ]
  },
  {
   "cell_type": "code",
   "execution_count": 3,
   "id": "3e02b3b2-8d01-451f-a038-f0ee298311c9",
   "metadata": {},
   "outputs": [
    {
     "name": "stdout",
     "output_type": "stream",
     "text": [
      "1번 라인\n",
      "2번 라인\n",
      "3번 라인\n",
      "4번 라인\n",
      "5번 라인\n",
      "6번 라인\n",
      "7번 라인\n",
      "8번 라인\n",
      "9번 라인\n",
      "10번 라인\n",
      "\n"
     ]
    }
   ],
   "source": [
    "# 파일 읽기\n",
    "f=open('D:/data.txt','r')\n",
    "data=f.read() # 파일 내용 전체 읽기\n",
    "f.close()\n",
    "\n",
    "print(data)"
   ]
  },
  {
   "cell_type": "code",
   "execution_count": 7,
   "id": "76c8bf8f-abe5-4457-b04d-e253f0b89479",
   "metadata": {},
   "outputs": [
    {
     "name": "stdout",
     "output_type": "stream",
     "text": [
      "1번 라인\n",
      "2번 라인\n",
      "3번 라인\n",
      "4번 라인\n",
      "5번 라인\n",
      "6번 라인\n",
      "7번 라인\n",
      "8번 라인\n",
      "9번 라인\n",
      "10번 라인\n"
     ]
    }
   ],
   "source": [
    "# 한줄 한줄 읽기 - readline\n",
    "f=open('D:/data.txt','r')\n",
    "\n",
    "while True:\n",
    "    line=f.readline()\n",
    "    if not line: break\n",
    "    # print(line, end='') # end의 기본값 \\n\n",
    "    print(line.strip())\n",
    "f.close()"
   ]
  },
  {
   "cell_type": "code",
   "execution_count": 8,
   "id": "2749ad1c-0571-467a-889c-70309a4de5d2",
   "metadata": {},
   "outputs": [
    {
     "name": "stdout",
     "output_type": "stream",
     "text": [
      "1번 라인\n",
      "2번 라인\n",
      "3번 라인\n",
      "4번 라인\n",
      "5번 라인\n",
      "6번 라인\n",
      "7번 라인\n",
      "8번 라인\n",
      "9번 라인\n",
      "10번 라인\n"
     ]
    }
   ],
   "source": [
    "# 한꺼번에 읽어 와서 한줄 한줄 리스트로 반환 - readlines()\n",
    "f=open('D:/data.txt', 'r')\n",
    "lines = f.readlines()\n",
    "for line in lines:\n",
    "    print(line, end='')\n",
    "f.close()"
   ]
  },
  {
   "cell_type": "code",
   "execution_count": 9,
   "id": "d88a87ae-800d-4acb-9f82-a238a642edb7",
   "metadata": {},
   "outputs": [
    {
     "name": "stdout",
     "output_type": "stream",
     "text": [
      "1번 라인\n",
      "2번 라인\n",
      "3번 라인\n",
      "4번 라인\n",
      "5번 라인\n",
      "6번 라인\n",
      "7번 라인\n",
      "8번 라인\n",
      "9번 라인\n",
      "10번 라인\n"
     ]
    }
   ],
   "source": [
    "f=open('D:/data.txt', 'r')\n",
    "\n",
    "for line in f: # 단순히 반복만 하는거면 f만 넣어도 됨\n",
    "    print(line, end='')\n",
    "\n",
    "f.close()"
   ]
  },
  {
   "cell_type": "code",
   "execution_count": 11,
   "id": "ae29916e-1ddf-446e-b6cf-7a62c75f02af",
   "metadata": {},
   "outputs": [],
   "source": [
    "f=open(\"D:/log.txt\", \"a\") # a : append - 추가 텍스트가 계속 끝에 추가\n",
    "f.write(\"로그3\\n\")\n",
    "f.write(\"로그4\\n\")\n",
    "f.close()"
   ]
  },
  {
   "cell_type": "code",
   "execution_count": 13,
   "id": "d24e1440-f998-4fc3-a377-d2155bbf665a",
   "metadata": {},
   "outputs": [],
   "source": [
    "# 자원 해제 자동화! - with 구문\n",
    "with open(\"D:/data2.txt\",\"w\") as f:\n",
    "    f.write(\"테스트 텍스트...\")"
   ]
  },
  {
   "cell_type": "code",
   "execution_count": null,
   "id": "0559b3e6-acd9-4b7e-a073-4ac4018ddb66",
   "metadata": {},
   "outputs": [],
   "source": []
  },
  {
   "cell_type": "code",
   "execution_count": null,
   "id": "6f8a055e-5bc4-4495-9ba3-b1830e725da3",
   "metadata": {},
   "outputs": [],
   "source": []
  },
  {
   "cell_type": "code",
   "execution_count": null,
   "id": "4341f9f8-8351-4890-8b9a-0e8da7114006",
   "metadata": {},
   "outputs": [],
   "source": []
  },
  {
   "cell_type": "code",
   "execution_count": null,
   "id": "9181ae90-b107-4c6b-bfb8-b75fa73d3806",
   "metadata": {},
   "outputs": [],
   "source": []
  },
  {
   "cell_type": "code",
   "execution_count": null,
   "id": "eace1acf-98a7-4ff8-a5b7-2eef87e3d3eb",
   "metadata": {},
   "outputs": [],
   "source": []
  },
  {
   "cell_type": "code",
   "execution_count": null,
   "id": "9c08019a-81bb-4df1-aa84-9bc7250fcbc0",
   "metadata": {},
   "outputs": [],
   "source": []
  }
 ],
 "metadata": {
  "kernelspec": {
   "display_name": "Python 3 (ipykernel)",
   "language": "python",
   "name": "python3"
  },
  "language_info": {
   "codemirror_mode": {
    "name": "ipython",
    "version": 3
   },
   "file_extension": ".py",
   "mimetype": "text/x-python",
   "name": "python",
   "nbconvert_exporter": "python",
   "pygments_lexer": "ipython3",
   "version": "3.12.7"
  }
 },
 "nbformat": 4,
 "nbformat_minor": 5
}
