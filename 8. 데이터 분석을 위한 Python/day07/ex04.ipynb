{
 "cells": [
  {
   "cell_type": "code",
   "execution_count": 1,
   "id": "103d3b99-6930-4b2b-a17a-560f2eed4975",
   "metadata": {},
   "outputs": [],
   "source": [
    "import re"
   ]
  },
  {
   "cell_type": "code",
   "execution_count": 2,
   "id": "a923a99c-6620-4116-bf9c-a96f6d800d10",
   "metadata": {},
   "outputs": [],
   "source": [
    "data = \"\"\"\n",
    "이이름 010-1000-1000\n",
    "김이름 010-2000-2000\n",
    "\"\"\"\n",
    "# 패턴을 그룹화해서 매칭을 해볼것임\n"
   ]
  },
  {
   "cell_type": "code",
   "execution_count": 3,
   "id": "67f373be-e33d-4d35-a067-023e4cece783",
   "metadata": {},
   "outputs": [
    {
     "name": "stdout",
     "output_type": "stream",
     "text": [
      "['이이름 010-1000-1000', '김이름 010-2000-2000']\n"
     ]
    }
   ],
   "source": [
    "p=re.compile(r\"[a-zA-zㄱ-ㅎ가-힣]+\\s01[016]\\D*\\d{3,4}\\D*\\d{4}\")\n",
    "print(p.findall(data))"
   ]
  },
  {
   "cell_type": "code",
   "execution_count": 4,
   "id": "fa48c978-7365-4184-8f72-df634a6bbbf7",
   "metadata": {},
   "outputs": [],
   "source": [
    "p=re.compile(r\"([a-zA-zㄱ-ㅎ가-힣]+)\\s(01[016]\\D*\\d{3,4}\\D*\\d{4})\")"
   ]
  },
  {
   "cell_type": "code",
   "execution_count": 13,
   "id": "ea1c15eb-5e27-4229-98ca-7e8782ebd683",
   "metadata": {},
   "outputs": [
    {
     "name": "stdout",
     "output_type": "stream",
     "text": [
      "이이름 010-1000-1000\n",
      "이이름\n",
      "010-1000-1000\n",
      "김이름 010-2000-2000\n",
      "김이름\n",
      "010-2000-2000\n"
     ]
    }
   ],
   "source": [
    "for m in p.finditer(data):\n",
    "    print(m.group()) # 전체 패턴에 매칭되는 문자열\n",
    "    print(m.group(1)) # 첫번째 그룹에 매칭되는 문자열\n",
    "    print(m.group(2)) # 두번째 그룹에 매칭되는 문자열"
   ]
  },
  {
   "cell_type": "code",
   "execution_count": 15,
   "id": "e108d778-a6db-47dd-96c5-d26864b36b61",
   "metadata": {},
   "outputs": [
    {
     "name": "stdout",
     "output_type": "stream",
     "text": [
      "\n",
      "010-1000-1000 이이름\n",
      "010-2000-2000 김이름\n",
      "\n"
     ]
    }
   ],
   "source": [
    "p=re.compile(r\"([a-zA-zㄱ-ㅎ가-힣]+)\\s(01[016]\\D*\\d{3,4}\\D*\\d{4})\") # \\g<1>, \\g<2>\n",
    "a = p.sub(r\"\\g<2> \\g<1>\", data)\n",
    "print(a)"
   ]
  },
  {
   "cell_type": "code",
   "execution_count": 20,
   "id": "74cff555-a2db-4737-b130-8ab2063fa06a",
   "metadata": {},
   "outputs": [],
   "source": [
    "a = \"111 ab ab 222\""
   ]
  },
  {
   "cell_type": "code",
   "execution_count": 21,
   "id": "fe113f33-3aca-42d5-9676-99a88482d04f",
   "metadata": {},
   "outputs": [
    {
     "data": {
      "text/plain": [
       "<re.Match object; span=(4, 9), match='ab ab'>"
      ]
     },
     "execution_count": 21,
     "metadata": {},
     "output_type": "execute_result"
    }
   ],
   "source": [
    "p = re.compile(r\"(ab)\\s\\1\") # \\1 - (ab)     \\1 -1번 그룹과 동일한 패턴 # 1번 그룹의 ab을 참조한다\n",
    "p.search(a)"
   ]
  },
  {
   "cell_type": "code",
   "execution_count": 22,
   "id": "2464db21-394c-405a-a2ca-067b315248ed",
   "metadata": {},
   "outputs": [
    {
     "name": "stdout",
     "output_type": "stream",
     "text": [
      "\n",
      "이이름 010-1000-1000\n",
      "김이름 010-2000-2000\n",
      "\n"
     ]
    }
   ],
   "source": [
    "p=re.compile(r\"(?P<name>[a-zA-zㄱ-ㅎ가-힣]+)\\s(?P<phone>01[016]\\D*\\d{3,4}\\D*\\d{4})\")\n",
    "a=p.sub(r\"\\g<name> \\g<phone>\", data)\n",
    "print(a)\n"
   ]
  },
  {
   "cell_type": "code",
   "execution_count": null,
   "id": "a6d88028-9fb9-4557-bad2-9be0760bdfe6",
   "metadata": {},
   "outputs": [],
   "source": []
  },
  {
   "cell_type": "code",
   "execution_count": null,
   "id": "6347b578-d58f-464f-b919-f466816e3038",
   "metadata": {},
   "outputs": [],
   "source": []
  },
  {
   "cell_type": "code",
   "execution_count": null,
   "id": "91be96dc-9626-4f06-be9a-fcceead510a7",
   "metadata": {},
   "outputs": [],
   "source": []
  },
  {
   "cell_type": "code",
   "execution_count": null,
   "id": "d063d78f-f394-45b3-a5f1-1fdf09ee049b",
   "metadata": {},
   "outputs": [],
   "source": []
  },
  {
   "cell_type": "code",
   "execution_count": null,
   "id": "0d4be0ed-5dcb-4697-9741-1bb2168059ca",
   "metadata": {},
   "outputs": [],
   "source": []
  },
  {
   "cell_type": "code",
   "execution_count": null,
   "id": "98856fdf-9e2d-41c0-92b4-6efcef8f26aa",
   "metadata": {},
   "outputs": [],
   "source": []
  },
  {
   "cell_type": "code",
   "execution_count": null,
   "id": "17f5e554-94a1-471a-a984-df4d08c6c88e",
   "metadata": {},
   "outputs": [],
   "source": []
  },
  {
   "cell_type": "code",
   "execution_count": null,
   "id": "4ac8591e-6389-4bd7-b4fb-97828a474f06",
   "metadata": {},
   "outputs": [],
   "source": []
  }
 ],
 "metadata": {
  "kernelspec": {
   "display_name": "Python 3 (ipykernel)",
   "language": "python",
   "name": "python3"
  },
  "language_info": {
   "codemirror_mode": {
    "name": "ipython",
    "version": 3
   },
   "file_extension": ".py",
   "mimetype": "text/x-python",
   "name": "python",
   "nbconvert_exporter": "python",
   "pygments_lexer": "ipython3",
   "version": "3.12.7"
  }
 },
 "nbformat": 4,
 "nbformat_minor": 5
}
