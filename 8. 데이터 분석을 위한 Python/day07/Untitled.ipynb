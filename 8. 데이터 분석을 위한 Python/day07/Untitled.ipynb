{
 "cells": [
  {
   "cell_type": "code",
   "execution_count": 41,
   "id": "ecd63275-b841-49e5-acaa-2d79d05124ef",
   "metadata": {},
   "outputs": [
    {
     "name": "stdout",
     "output_type": "stream",
     "text": [
      "[1, 1, 1, 2, 2, 3, 3, 3, 4, 4, 5]\n"
     ]
    }
   ],
   "source": [
    "# 1. a 리스트에서 중복 숫자를 제거해 보세요\n",
    "a = [1, 1, 1, 2, 2, 3, 3, 3, 4, 4, 5]\n",
    "-\n"
   ]
  },
  {
   "cell_type": "code",
   "execution_count": null,
   "id": "74293702-e811-4e67-8bdc-7d3f6cb0289c",
   "metadata": {},
   "outputs": [],
   "source": [
    "# 2. 입력으로 들어오는 모든 수의 평균값을 계산해 주는 함수를 작성해보자. 단, 입력으로 들어오는 수의 개수는 정해져 있지 않다.\n",
    "\n"
   ]
  },
  {
   "cell_type": "code",
   "execution_count": 42,
   "id": "e47e5243-c87a-4844-a214-dc0da8cefe2c",
   "metadata": {},
   "outputs": [],
   "source": [
    "# 3. [1, 2, 3, 4] 리스트의 각 요소값에 3이 곱해진 리스트 [3,6,9,12]를 만들어봅시다.\n",
    "\n"
   ]
  },
  {
   "cell_type": "code",
   "execution_count": null,
   "id": "02a1f321-62ca-4150-a409-a7409e5fd4da",
   "metadata": {},
   "outputs": [],
   "source": []
  },
  {
   "cell_type": "code",
   "execution_count": null,
   "id": "4bd6d6b5-daf6-4c55-87c9-027d257a67da",
   "metadata": {},
   "outputs": [],
   "source": []
  },
  {
   "cell_type": "code",
   "execution_count": null,
   "id": "bc70dd10-e1a8-49fc-b7d7-2be68309da06",
   "metadata": {},
   "outputs": [],
   "source": []
  },
  {
   "cell_type": "code",
   "execution_count": null,
   "id": "a4791a95-9e7b-4c7e-9d57-d720ce930a5b",
   "metadata": {},
   "outputs": [],
   "source": []
  },
  {
   "cell_type": "code",
   "execution_count": null,
   "id": "f130f2c4-5c16-43af-8d73-3c311c21e9d6",
   "metadata": {},
   "outputs": [],
   "source": []
  }
 ],
 "metadata": {
  "kernelspec": {
   "display_name": "Python 3 (ipykernel)",
   "language": "python",
   "name": "python3"
  },
  "language_info": {
   "codemirror_mode": {
    "name": "ipython",
    "version": 3
   },
   "file_extension": ".py",
   "mimetype": "text/x-python",
   "name": "python",
   "nbconvert_exporter": "python",
   "pygments_lexer": "ipython3",
   "version": "3.12.7"
  }
 },
 "nbformat": 4,
 "nbformat_minor": 5
}
