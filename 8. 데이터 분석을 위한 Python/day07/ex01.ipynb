{
 "cells": [
  {
   "cell_type": "code",
   "execution_count": 4,
   "id": "e70eb71b-7439-46bf-bda8-b72eed502f8b",
   "metadata": {},
   "outputs": [],
   "source": [
    "# . : 줄 개행 문자(\\n)를 제외한 모든 문자 1자\n",
    "import re\n",
    "p = re.compile(\"a.b\")\n",
    "# p.match(\"a1b\")\n",
    "p.match(\"a\\nb\") # .은 줄개행 문자(\\n) 제외한 모든 문자1자"
   ]
  },
  {
   "cell_type": "code",
   "execution_count": 5,
   "id": "2f5f8b77-a097-43f2-9f2a-f0bbef6031e5",
   "metadata": {},
   "outputs": [
    {
     "data": {
      "text/plain": [
       "<re.Match object; span=(0, 3), match='a\\nb'>"
      ]
     },
     "execution_count": 5,
     "metadata": {},
     "output_type": "execute_result"
    }
   ],
   "source": [
    "# re.DOTALL : .이 줄 개행 문자(\\n)도 포함한 모든 문자 1개\n",
    "p=re.compile(\"a.b\", re.DOTALL)\n",
    "p.match(\"a\\nb\")"
   ]
  },
  {
   "cell_type": "code",
   "execution_count": 6,
   "id": "bf4e7b91-86fd-4fca-b399-f7d60a450bd0",
   "metadata": {},
   "outputs": [
    {
     "data": {
      "text/plain": [
       "<re.Match object; span=(0, 3), match='a\\nb'>"
      ]
     },
     "execution_count": 6,
     "metadata": {},
     "output_type": "execute_result"
    }
   ],
   "source": [
    "# re.DOTALL : .이 줄 개행 문자(\\n)도 포함한 모든 문자 1개\n",
    "p=re.compile(\"a.b\", re.S)\n",
    "p.match(\"a\\nb\")"
   ]
  },
  {
   "cell_type": "code",
   "execution_count": null,
   "id": "06a2d87a-4115-43b5-8c04-23e5f2d9b9eb",
   "metadata": {},
   "outputs": [],
   "source": []
  },
  {
   "cell_type": "code",
   "execution_count": 7,
   "id": "94d80456-2c09-4ce4-88e3-a955b642d51f",
   "metadata": {},
   "outputs": [
    {
     "data": {
      "text/plain": [
       "<re.Match object; span=(0, 6), match='python'>"
      ]
     },
     "execution_count": 7,
     "metadata": {},
     "output_type": "execute_result"
    }
   ],
   "source": [
    "p=re.compile(\"[a-z]+\") # 알파벳 소문자\n",
    "p.match(\"python\") # 대문자면 출력안됨"
   ]
  },
  {
   "cell_type": "code",
   "execution_count": 9,
   "id": "2e246bd6-205a-44e2-a8bd-a4361fc0542e",
   "metadata": {},
   "outputs": [
    {
     "data": {
      "text/plain": [
       "<re.Match object; span=(0, 7), match='pyYthon'>"
      ]
     },
     "execution_count": 9,
     "metadata": {},
     "output_type": "execute_result"
    }
   ],
   "source": [
    "p=re.compile(\"[a-zA-Z]+\") # 알파벳 소문자\n",
    "p.match(\"pyYthon\") "
   ]
  },
  {
   "cell_type": "code",
   "execution_count": 10,
   "id": "dd5ef1cd-523b-4051-a3de-7a77fa90593b",
   "metadata": {},
   "outputs": [
    {
     "data": {
      "text/plain": [
       "<re.Match object; span=(0, 6), match='Python'>"
      ]
     },
     "execution_count": 10,
     "metadata": {},
     "output_type": "execute_result"
    }
   ],
   "source": [
    "# p = re.compile(\"[a-z]+\", re.IGNORECASE) # 대소문자 구분 X\n",
    "p = re.compile(\"[a-z]+\", re.I)\n",
    "p.match(\"Python\")"
   ]
  },
  {
   "cell_type": "code",
   "execution_count": null,
   "id": "18020433-22c3-41a2-abfe-ced625750b7c",
   "metadata": {},
   "outputs": [],
   "source": []
  },
  {
   "cell_type": "code",
   "execution_count": 14,
   "id": "8dc701f8-3fcb-44af-8d73-665b64eb2b4a",
   "metadata": {},
   "outputs": [
    {
     "name": "stdout",
     "output_type": "stream",
     "text": [
      "['python one', 'python two', 'python three']\n"
     ]
    }
   ],
   "source": [
    "str = \"\"\"python one\n",
    "life is short\n",
    "python two\n",
    "you need python\n",
    "python three\"\"\"\n",
    "# p = re.compile(r\"^python\\s\\w+\") # 전체 하나의 문장으로 체크\n",
    "# p = re.compile(r\"^python\\s\\w+\", re.MULTILINE) # 각각의 행별로 ^(시작), $(끝) 패턴\n",
    "p = re.compile(r\"^python\\s\\w+\", re.M)\n",
    "items = p.findall(str)\n",
    "print(items)\n",
    "               "
   ]
  },
  {
   "cell_type": "code",
   "execution_count": null,
   "id": "2b76d9e6-1f03-44c8-b87e-21e5d2bc057d",
   "metadata": {},
   "outputs": [],
   "source": []
  },
  {
   "cell_type": "code",
   "execution_count": 15,
   "id": "08d81de6-212e-4ec5-b0ab-8b55565a3873",
   "metadata": {},
   "outputs": [
    {
     "name": "stderr",
     "output_type": "stream",
     "text": [
      "<>:1: SyntaxWarning: invalid escape sequence '\\s'\n",
      "<>:1: SyntaxWarning: invalid escape sequence '\\s'\n",
      "C:\\Users\\admin\\AppData\\Local\\Temp\\ipykernel_3060\\666808626.py:1: SyntaxWarning: invalid escape sequence '\\s'\n",
      "  p = re.compile(\"ab\\scd\") # \\s -> s -> \\\\s -> \\s\n"
     ]
    },
    {
     "data": {
      "text/plain": [
       "<re.Match object; span=(0, 5), match='ab cd'>"
      ]
     },
     "execution_count": 15,
     "metadata": {},
     "output_type": "execute_result"
    }
   ],
   "source": [
    "p = re.compile(\"ab\\scd\") # \\s -> s 이렇게 나오기 때문에 \\\\s -> \\s 이렇게 써야함\n",
    "p.match(\"ab cd\")"
   ]
  },
  {
   "cell_type": "code",
   "execution_count": 22,
   "id": "b984184b-fb22-447a-9134-20452ecd344b",
   "metadata": {},
   "outputs": [
    {
     "data": {
      "text/plain": [
       "<re.Match object; span=(0, 5), match='ab cd'>"
      ]
     },
     "execution_count": 22,
     "metadata": {},
     "output_type": "execute_result"
    }
   ],
   "source": [
    "# p = re.compile(\"ab\\\\scd\") # \\s -> s  -> \\\\s -> \\s\n",
    "p = re.compile(r'ab\\scd')\n",
    "p.match(\"ab cd\")"
   ]
  },
  {
   "cell_type": "code",
   "execution_count": null,
   "id": "706cfbf9-797c-4712-b809-74bfa92f2d4e",
   "metadata": {},
   "outputs": [],
   "source": []
  },
  {
   "cell_type": "code",
   "execution_count": null,
   "id": "e6963905-4366-4b88-94ad-15ce9a5f4df6",
   "metadata": {},
   "outputs": [],
   "source": []
  },
  {
   "cell_type": "code",
   "execution_count": null,
   "id": "ea4edfde-9128-45ae-b42f-1d267f7cf825",
   "metadata": {},
   "outputs": [],
   "source": []
  },
  {
   "cell_type": "code",
   "execution_count": null,
   "id": "fdacc127-0833-4d69-b1c6-ea0112ccee96",
   "metadata": {},
   "outputs": [],
   "source": []
  },
  {
   "cell_type": "code",
   "execution_count": null,
   "id": "4769aefd-29b4-4320-acda-9fa7acbb9d9f",
   "metadata": {},
   "outputs": [],
   "source": []
  },
  {
   "cell_type": "code",
   "execution_count": null,
   "id": "b2332489-1958-433f-8188-10721d500069",
   "metadata": {},
   "outputs": [],
   "source": []
  },
  {
   "cell_type": "code",
   "execution_count": null,
   "id": "f1e7f1a9-de8d-44a5-bf73-4c763f90ac53",
   "metadata": {},
   "outputs": [],
   "source": []
  }
 ],
 "metadata": {
  "kernelspec": {
   "display_name": "Python 3 (ipykernel)",
   "language": "python",
   "name": "python3"
  },
  "language_info": {
   "codemirror_mode": {
    "name": "ipython",
    "version": 3
   },
   "file_extension": ".py",
   "mimetype": "text/x-python",
   "name": "python",
   "nbconvert_exporter": "python",
   "pygments_lexer": "ipython3",
   "version": "3.12.7"
  }
 },
 "nbformat": 4,
 "nbformat_minor": 5
}
