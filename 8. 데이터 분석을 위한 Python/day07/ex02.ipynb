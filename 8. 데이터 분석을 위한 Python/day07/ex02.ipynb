{
 "cells": [
  {
   "cell_type": "code",
   "execution_count": 1,
   "id": "e9afcd6b-29aa-4e06-be42-c6ed08100b7d",
   "metadata": {},
   "outputs": [],
   "source": [
    "import re"
   ]
  },
  {
   "cell_type": "code",
   "execution_count": null,
   "id": "92cf3f38-65ec-4e9e-a941-486ef024607d",
   "metadata": {},
   "outputs": [],
   "source": [
    "p = re.compile(\"apple|orange|melon\") # apple또는 orange또는 melon\n",
    "p.search(\"three oranges\")\n",
    "p.search(\"three mamgo\")"
   ]
  },
  {
   "cell_type": "code",
   "execution_count": null,
   "id": "b8c11ca0-111d-423d-8da5-b36e6fced743",
   "metadata": {},
   "outputs": [],
   "source": [
    "p = re.compile(r\"^01[016]\\D*\\d{3,4}\\D*\\d{4}$\") # 01로 반드시 시작, 숫자 4자리로 반드시 끝나는 패턴\n",
    "# 010.1000.1000  010-1000 1000\n",
    "p.search(\"010/1000/1000\")"
   ]
  },
  {
   "cell_type": "code",
   "execution_count": 5,
   "id": "5e4e0a6c-7c4d-4710-aa26-19a8c3863ff5",
   "metadata": {},
   "outputs": [
    {
     "data": {
      "text/plain": [
       "<re.Match object; span=(0, 5), match='class'>"
      ]
     },
     "execution_count": 5,
     "metadata": {},
     "output_type": "execute_result"
    }
   ],
   "source": [
    "p = re.compile(r\"\\bclass\\b\") # class 단어 \\b는 class 단어의 경계선\n",
    "p.search(\"my class is over 6pm\")\n",
    "p.search(\"class is over 6pm\")"
   ]
  },
  {
   "cell_type": "code",
   "execution_count": 7,
   "id": "d9d64e62-6da7-4c6d-8ef2-8aa471e8a25c",
   "metadata": {},
   "outputs": [
    {
     "data": {
      "text/plain": [
       "<re.Match object; span=(6, 11), match='class'>"
      ]
     },
     "execution_count": 7,
     "metadata": {},
     "output_type": "execute_result"
    }
   ],
   "source": [
    "p = re.compile(r\"\\Bclass\\b\")\n",
    "p.search(\"my subclass is over 6pm\") # 단어의 경계선은 공백이니까 공백넣은 거"
   ]
  },
  {
   "cell_type": "code",
   "execution_count": null,
   "id": "7da846ab-472b-48b4-89f6-2fa4fcc45a2d",
   "metadata": {},
   "outputs": [],
   "source": []
  },
  {
   "cell_type": "code",
   "execution_count": 8,
   "id": "dd26f92c-4361-4a76-b063-5794223cabcd",
   "metadata": {},
   "outputs": [
    {
     "data": {
      "text/plain": [
       "<re.Match object; span=(0, 6), match='ABCABC'>"
      ]
     },
     "execution_count": 8,
     "metadata": {},
     "output_type": "execute_result"
    }
   ],
   "source": [
    "p = re.compile(\"(ABC){2}\")  # ABC 패턴이 2번 반복되는지 체크\n",
    "p.search(\"ABCABCABC\")"
   ]
  },
  {
   "cell_type": "code",
   "execution_count": null,
   "id": "de4faec4-ed5e-42f9-964d-6bd33aba1c1b",
   "metadata": {},
   "outputs": [],
   "source": []
  },
  {
   "cell_type": "code",
   "execution_count": null,
   "id": "e93dc308-2231-4c3f-a9aa-bad4d236b307",
   "metadata": {},
   "outputs": [],
   "source": []
  },
  {
   "cell_type": "code",
   "execution_count": null,
   "id": "f379117f-601a-47cf-8f05-b996510cc583",
   "metadata": {},
   "outputs": [],
   "source": []
  }
 ],
 "metadata": {
  "kernelspec": {
   "display_name": "Python 3 (ipykernel)",
   "language": "python",
   "name": "python3"
  },
  "language_info": {
   "codemirror_mode": {
    "name": "ipython",
    "version": 3
   },
   "file_extension": ".py",
   "mimetype": "text/x-python",
   "name": "python",
   "nbconvert_exporter": "python",
   "pygments_lexer": "ipython3",
   "version": "3.12.7"
  }
 },
 "nbformat": 4,
 "nbformat_minor": 5
}
