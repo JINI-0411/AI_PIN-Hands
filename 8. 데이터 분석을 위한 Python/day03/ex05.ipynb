{
 "cells": [
  {
   "cell_type": "code",
   "execution_count": 1,
   "id": "cf3d753d-0e9d-48a1-ba5f-6354ddd3e266",
   "metadata": {},
   "outputs": [
    {
     "name": "stdout",
     "output_type": "stream",
     "text": [
      "ABCDEFGHI\n"
     ]
    }
   ],
   "source": [
    "print(\"ABC\" + \"DEF\" + \"GHI\") # 문자열 결합 + 연산자, 문자열끼리만 가능"
   ]
  },
  {
   "cell_type": "code",
   "execution_count": 2,
   "id": "6f9be9d9-46e4-420a-a73c-796662e1bc5d",
   "metadata": {},
   "outputs": [
    {
     "name": "stdout",
     "output_type": "stream",
     "text": [
      "ABCDEFGHI\n"
     ]
    }
   ],
   "source": [
    "print(\"ABC\" \"DEF\" \"GHI\") # 문자열 결합, + 연산자를 사용하지 않아도 결합해서 출력!"
   ]
  },
  {
   "cell_type": "code",
   "execution_count": 3,
   "id": "8d5a7771-5cec-422c-b43d-cc57677a34ec",
   "metadata": {},
   "outputs": [
    {
     "name": "stdout",
     "output_type": "stream",
     "text": [
      "ABC DEF GHI\n"
     ]
    }
   ],
   "source": [
    "print(\"ABC\", \"DEF\", \"GHI\") # 문자열을 공백으로 띄어서 결합"
   ]
  },
  {
   "cell_type": "code",
   "execution_count": 4,
   "id": "13fac0b0-ef61-4bca-9a28-f122c4623598",
   "metadata": {},
   "outputs": [
    {
     "name": "stdout",
     "output_type": "stream",
     "text": [
      "ABC\n",
      "DEF#GHI#"
     ]
    }
   ],
   "source": [
    "print(\"ABC\") #end : 기본값이 \\n -> \"ABC\\n\"\n",
    "print(\"DEF\", end='#')\n",
    "print(\"GHI\", end='#')"
   ]
  },
  {
   "cell_type": "code",
   "execution_count": null,
   "id": "ef9ad1b3-de3f-41cc-9230-9923472f7fcc",
   "metadata": {},
   "outputs": [],
   "source": []
  },
  {
   "cell_type": "code",
   "execution_count": null,
   "id": "83cf1751-ea2d-4064-98fc-a185b614a1e3",
   "metadata": {},
   "outputs": [],
   "source": []
  }
 ],
 "metadata": {
  "kernelspec": {
   "display_name": "Python 3 (ipykernel)",
   "language": "python",
   "name": "python3"
  },
  "language_info": {
   "codemirror_mode": {
    "name": "ipython",
    "version": 3
   },
   "file_extension": ".py",
   "mimetype": "text/x-python",
   "name": "python",
   "nbconvert_exporter": "python",
   "pygments_lexer": "ipython3",
   "version": "3.12.7"
  }
 },
 "nbformat": 4,
 "nbformat_minor": 5
}
