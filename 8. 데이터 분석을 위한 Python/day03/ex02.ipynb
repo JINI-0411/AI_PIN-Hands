{
 "cells": [
  {
   "cell_type": "code",
   "execution_count": null,
   "id": "97fced72-7ecf-4a33-8f53-d52b9f710660",
   "metadata": {},
   "outputs": [],
   "source": [
    "total = 0\n",
    "while True: # 무한 루프\n",
    "    num = input(\"숫자 입력:\")\n",
    "    total += int(num) # 문자열 숫자->정수 숫자\n",
    "    print(\"합계:\", total)"
   ]
  },
  {
   "cell_type": "code",
   "execution_count": 5,
   "id": "9ad26cad-6f6c-4e2d-8480-8286a7798e4f",
   "metadata": {},
   "outputs": [
    {
     "name": "stdout",
     "output_type": "stream",
     "text": [
      "합계: 5050\n"
     ]
    }
   ],
   "source": [
    "total = 0\n",
    "num = 1\n",
    "\n",
    "while num <= 100:\n",
    "    total += num\n",
    "    # num++ // 파이썬은 증가 감소 연산자 사용 불가!\n",
    "    num += 1\n",
    "\n",
    "print(\"합계:\", total)"
   ]
  },
  {
   "cell_type": "code",
   "execution_count": 7,
   "id": "455535f4-49b5-48c6-8c2e-25c6da7821ad",
   "metadata": {},
   "outputs": [
    {
     "name": "stdout",
     "output_type": "stream",
     "text": [
      "합계: 5050\n"
     ]
    }
   ],
   "source": [
    "total = 0\n",
    "num = 1\n",
    "\n",
    "while num <= 100:\n",
    "    total += num\n",
    "    # num++ // 이건 안됨\n",
    "    # ++num // 이건 오류는 안나는데... 실행이 안됨\n",
    "    num += 1\n",
    "    \n",
    "print(\"합계:\", total)"
   ]
  },
  {
   "cell_type": "code",
   "execution_count": 9,
   "id": "0b127ac7-7324-4946-a7af-2266e512608d",
   "metadata": {},
   "outputs": [
    {
     "name": "stdout",
     "output_type": "stream",
     "text": [
      "합계: 625\n"
     ]
    }
   ],
   "source": [
    "total = 0\n",
    "num = 1\n",
    "\n",
    "while num <= 100:\n",
    "    if num == 50:\n",
    "        break # 반복 멈추기\n",
    "    \n",
    "    if num % 2 == 0:\n",
    "        num += 1\n",
    "        continue # 현재 반복을 중단하고 새로 반복 시작(반복 건너뛰기)\n",
    "    \n",
    "    total += num\n",
    "    num += 1\n",
    "    \n",
    "print(\"합계:\", total)"
   ]
  },
  {
   "cell_type": "code",
   "execution_count": null,
   "id": "54a67ae6-4472-48ad-878e-0a46f15db0a7",
   "metadata": {},
   "outputs": [],
   "source": []
  },
  {
   "cell_type": "code",
   "execution_count": null,
   "id": "715e6a1a-d119-424d-88c9-778fcfe763e6",
   "metadata": {},
   "outputs": [],
   "source": []
  }
 ],
 "metadata": {
  "kernelspec": {
   "display_name": "Python 3 (ipykernel)",
   "language": "python",
   "name": "python3"
  },
  "language_info": {
   "codemirror_mode": {
    "name": "ipython",
    "version": 3
   },
   "file_extension": ".py",
   "mimetype": "text/x-python",
   "name": "python",
   "nbconvert_exporter": "python",
   "pygments_lexer": "ipython3",
   "version": "3.12.7"
  }
 },
 "nbformat": 4,
 "nbformat_minor": 5
}
