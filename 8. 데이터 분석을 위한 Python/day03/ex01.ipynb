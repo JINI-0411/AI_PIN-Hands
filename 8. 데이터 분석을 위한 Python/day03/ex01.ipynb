{
 "cells": [
  {
   "cell_type": "code",
   "execution_count": 1,
   "id": "61494db7-af43-4cd3-939e-b7ddd01201b3",
   "metadata": {},
   "outputs": [
    {
     "name": "stdout",
     "output_type": "stream",
     "text": [
      "중학생\n"
     ]
    }
   ],
   "source": [
    "age=16\n",
    "\n",
    "if age < 8:\n",
    "    print(\"유치원\")\n",
    "elif age < 14:\n",
    "    print(\"초등학생\")\n",
    "elif age < 17:\n",
    "    print(\"중학생\")\n",
    "elif age < 20:\n",
    "    print(\"고등학생\")\n",
    "else:\n",
    "    print(\"성인\")"
   ]
  },
  {
   "cell_type": "code",
   "execution_count": 3,
   "id": "068b55e6-5b41-446e-8ba5-b98ee6ffde34",
   "metadata": {},
   "outputs": [
    {
     "name": "stdout",
     "output_type": "stream",
     "text": [
      "사과가 있습니다.\n"
     ]
    }
   ],
   "source": [
    "fruits = ['사과', '오렌지', '멜론']\n",
    "\n",
    "if '사과' in fruits : # 사과가 포함 되어 있는지 체크\n",
    "    print(\"사과가 있습니다.\")\n",
    "else: \n",
    "    print(\"사과가 없습니다.\")"
   ]
  },
  {
   "cell_type": "code",
   "execution_count": 5,
   "id": "2a9f8562-fc31-481c-b706-44cea0c9ae42",
   "metadata": {},
   "outputs": [
    {
     "name": "stdout",
     "output_type": "stream",
     "text": [
      "망고가 없습니다.\n"
     ]
    }
   ],
   "source": [
    "fruits = ['사과', '오렌지', '멜론']\n",
    "\n",
    "if '망고' not in fruits : # 망고가 포함 되어있지 않는지 체크\n",
    "    print(\"망고가 없습니다.\")\n",
    "else: \n",
    "    print(\"망고가 있습니다.\")"
   ]
  },
  {
   "cell_type": "code",
   "execution_count": 8,
   "id": "0818344c-9b30-49ec-b871-94e6cd0c1f49",
   "metadata": {},
   "outputs": [],
   "source": [
    "num = 10\n",
    "if num > 5 and num < 20:\n",
    "    pass # 아무것도 안함"
   ]
  },
  {
   "cell_type": "code",
   "execution_count": 9,
   "id": "0c9a544c-2a42-4da3-8718-d4d98990ecf6",
   "metadata": {},
   "outputs": [],
   "source": [
    "if num > 5 and num < 20: pass"
   ]
  },
  {
   "cell_type": "code",
   "execution_count": 12,
   "id": "ec796ee7-c1f7-405e-b3f9-df336c612431",
   "metadata": {},
   "outputs": [
    {
     "name": "stdout",
     "output_type": "stream",
     "text": [
      "합격\n"
     ]
    }
   ],
   "source": [
    "score = 60\n",
    "result = \"합격\" if score >= 60 else \"불합격\" # 조건부 표현식\n",
    "print (result)"
   ]
  },
  {
   "cell_type": "code",
   "execution_count": null,
   "id": "88a968db-85a6-4987-9e1c-36fdb7d95423",
   "metadata": {},
   "outputs": [],
   "source": []
  },
  {
   "cell_type": "code",
   "execution_count": null,
   "id": "6e791d69-03a9-4caa-8c4b-01c68302dc9c",
   "metadata": {},
   "outputs": [],
   "source": []
  }
 ],
 "metadata": {
  "kernelspec": {
   "display_name": "Python 3 (ipykernel)",
   "language": "python",
   "name": "python3"
  },
  "language_info": {
   "codemirror_mode": {
    "name": "ipython",
    "version": 3
   },
   "file_extension": ".py",
   "mimetype": "text/x-python",
   "name": "python",
   "nbconvert_exporter": "python",
   "pygments_lexer": "ipython3",
   "version": "3.12.7"
  }
 },
 "nbformat": 4,
 "nbformat_minor": 5
}
