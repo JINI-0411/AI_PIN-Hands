{
 "cells": [
  {
   "cell_type": "code",
   "execution_count": 1,
   "id": "4852a58e-8629-4d42-93a6-20a80ba9bf98",
   "metadata": {},
   "outputs": [],
   "source": [
    "def add(a, b):\n",
    "    return a+b"
   ]
  },
  {
   "cell_type": "code",
   "execution_count": 2,
   "id": "044e3700-848b-4e86-a574-ce2537a6c8b2",
   "metadata": {},
   "outputs": [
    {
     "data": {
      "text/plain": [
       "30"
      ]
     },
     "execution_count": 2,
     "metadata": {},
     "output_type": "execute_result"
    }
   ],
   "source": [
    "add(10,20)"
   ]
  },
  {
   "cell_type": "code",
   "execution_count": 3,
   "id": "0f1b9fb3-29c6-4e82-8cb5-f8d1c4a363ef",
   "metadata": {},
   "outputs": [],
   "source": [
    "def sub(a,b):\n",
    "    pass"
   ]
  },
  {
   "cell_type": "code",
   "execution_count": 8,
   "id": "afb27992-ad1a-473d-9c43-5520952e9e08",
   "metadata": {},
   "outputs": [],
   "source": [
    "def calc(a,b):\n",
    "#    return a+b, a-b, a*b, a/b // 이건 튜플형태임\n",
    "    return (a+b, a-b, a*b, a/b) # 반환값 4개가 아니라! 튜플 1개"
   ]
  },
  {
   "cell_type": "code",
   "execution_count": 10,
   "id": "44651225-614f-438b-9bb1-5a8916a22d5d",
   "metadata": {},
   "outputs": [
    {
     "name": "stdout",
     "output_type": "stream",
     "text": [
      "(15, 5, 50, 2.0)\n"
     ]
    },
    {
     "data": {
      "text/plain": [
       "tuple"
      ]
     },
     "execution_count": 10,
     "metadata": {},
     "output_type": "execute_result"
    }
   ],
   "source": [
    "result = calc(10,5)\n",
    "print(result)\n",
    "type(result)"
   ]
  },
  {
   "cell_type": "code",
   "execution_count": 12,
   "id": "c43ec6f3-be71-41ad-a295-e1cad4e2c93d",
   "metadata": {},
   "outputs": [
    {
     "name": "stdout",
     "output_type": "stream",
     "text": [
      "15 5 50 2.0\n"
     ]
    },
    {
     "data": {
      "text/plain": [
       "function"
      ]
     },
     "execution_count": 12,
     "metadata": {},
     "output_type": "execute_result"
    }
   ],
   "source": [
    "r1, r2, r3, r4 = calc(10,5)\n",
    "print(r1,r2,r3,r4)\n",
    "type(calc)"
   ]
  },
  {
   "cell_type": "code",
   "execution_count": 20,
   "id": "29e3249c-d2d0-4871-922a-55361fa480b8",
   "metadata": {},
   "outputs": [],
   "source": [
    "def sum(num, *params):\n",
    "    print(\"num:\", num, \"params:\", params)\n",
    "    total = 0\n",
    "    for i in params:\n",
    "        total += i\n",
    "        \n",
    "    return total"
   ]
  },
  {
   "cell_type": "code",
   "execution_count": 21,
   "id": "c3f047bc-c4ce-40b0-854a-ba33047fa590",
   "metadata": {},
   "outputs": [
    {
     "name": "stdout",
     "output_type": "stream",
     "text": [
      "num: 10 params: (20, 30, 40, 50)\n"
     ]
    },
    {
     "data": {
      "text/plain": [
       "140"
      ]
     },
     "execution_count": 21,
     "metadata": {},
     "output_type": "execute_result"
    }
   ],
   "source": [
    "sum(10, 20, 30, 40, 50)"
   ]
  },
  {
   "cell_type": "code",
   "execution_count": 22,
   "id": "603f2463-3995-49a0-ac9c-139e7eb284a2",
   "metadata": {},
   "outputs": [],
   "source": [
    "def add(a,b):\n",
    "    return a+b"
   ]
  },
  {
   "cell_type": "code",
   "execution_count": 23,
   "id": "709631d9-fe87-44b1-8ce6-116da013ffcf",
   "metadata": {},
   "outputs": [
    {
     "data": {
      "text/plain": [
       "30"
      ]
     },
     "execution_count": 23,
     "metadata": {},
     "output_type": "execute_result"
    }
   ],
   "source": [
    "add(10,20) # a=10, b=20 으로 순서대로 값이 들어감"
   ]
  },
  {
   "cell_type": "code",
   "execution_count": 24,
   "id": "617580c9-6f70-4b90-ac2d-d942584d6b3d",
   "metadata": {},
   "outputs": [
    {
     "data": {
      "text/plain": [
       "30"
      ]
     },
     "execution_count": 24,
     "metadata": {},
     "output_type": "execute_result"
    }
   ],
   "source": [
    "add(b=20, a=10) # 파이썬은 이런 문법이 가능함 , 실제로도 많이 사용함"
   ]
  },
  {
   "cell_type": "code",
   "execution_count": 25,
   "id": "6834cd83-96f9-40a0-9bae-1650e643bda9",
   "metadata": {},
   "outputs": [],
   "source": [
    "def words(**params):\n",
    "    print(params)"
   ]
  },
  {
   "cell_type": "code",
   "execution_count": 26,
   "id": "eba4ff3a-0a19-4651-9090-4705c8358f2d",
   "metadata": {},
   "outputs": [
    {
     "name": "stdout",
     "output_type": "stream",
     "text": [
      "{'name': '이이름', 'age': 40, 'address': '주소'}\n"
     ]
    }
   ],
   "source": [
    "words(name=\"이이름\", age=40, address=\"주소\") # 맵형태로 넣어줌"
   ]
  },
  {
   "cell_type": "code",
   "execution_count": 30,
   "id": "809a96e8-e12f-49c3-a2ba-31b6b2c26e6d",
   "metadata": {},
   "outputs": [],
   "source": [
    "def get_number(num):\n",
    "    if num % 10 == 0:\n",
    "        print(\"종료!\")\n",
    "        return # 함수의 종료, 이 후 코드는 실행 X\n",
    "        \n",
    "    print(num)"
   ]
  },
  {
   "cell_type": "code",
   "execution_count": 31,
   "id": "4ab2443b-e70d-4c5a-a314-0af2cabcf583",
   "metadata": {},
   "outputs": [
    {
     "name": "stdout",
     "output_type": "stream",
     "text": [
      "11\n"
     ]
    }
   ],
   "source": [
    "get_number(11)"
   ]
  },
  {
   "cell_type": "code",
   "execution_count": 32,
   "id": "da19173e-d750-43ea-ac74-e77b1cb9a03e",
   "metadata": {},
   "outputs": [],
   "source": [
    "def sum(a,b,c = 100): # 기본값은 항상 마지막 매개변수 부터 차례대로 설정!\n",
    "    return a+b+c "
   ]
  },
  {
   "cell_type": "code",
   "execution_count": 33,
   "id": "307d57bf-0d7d-4190-a028-a811a0ce0ddd",
   "metadata": {},
   "outputs": [
    {
     "data": {
      "text/plain": [
       "130"
      ]
     },
     "execution_count": 33,
     "metadata": {},
     "output_type": "execute_result"
    }
   ],
   "source": [
    "sum(10,20)"
   ]
  },
  {
   "cell_type": "code",
   "execution_count": 36,
   "id": "7f106e23-7dee-496e-b3d4-bac4d8ff9f94",
   "metadata": {},
   "outputs": [
    {
     "data": {
      "text/plain": [
       "140"
      ]
     },
     "execution_count": 36,
     "metadata": {},
     "output_type": "execute_result"
    }
   ],
   "source": [
    "sum(10,20,110)"
   ]
  },
  {
   "cell_type": "code",
   "execution_count": 37,
   "id": "65535655-d32d-4c89-b2df-b147de1d9002",
   "metadata": {},
   "outputs": [
    {
     "ename": "SyntaxError",
     "evalue": "parameter without a default follows parameter with a default (2422504871.py, line 1)",
     "output_type": "error",
     "traceback": [
      "\u001b[1;36m  Cell \u001b[1;32mIn[37], line 1\u001b[1;36m\u001b[0m\n\u001b[1;33m    def sum2(a,b=100, c):\u001b[0m\n\u001b[1;37m                      ^\u001b[0m\n\u001b[1;31mSyntaxError\u001b[0m\u001b[1;31m:\u001b[0m parameter without a default follows parameter with a default\n"
     ]
    }
   ],
   "source": [
    "def sum2(a,b=100, c):\n",
    "    return a + b + c"
   ]
  },
  {
   "cell_type": "code",
   "execution_count": 38,
   "id": "c9a5e9c9-e955-4dd7-9f36-078b7e46526c",
   "metadata": {},
   "outputs": [],
   "source": [
    "name = \"이이름\" # 전역변수\n",
    "\n",
    "def message(msg): # msg는 지역변수\n",
    "    print(f\"{name}님 {msg}\")"
   ]
  },
  {
   "cell_type": "code",
   "execution_count": 40,
   "id": "5e5e237f-a4be-46b5-9e16-7d6c9c697057",
   "metadata": {},
   "outputs": [
    {
     "name": "stdout",
     "output_type": "stream",
     "text": [
      "이이름님 안녕하세요\n"
     ]
    }
   ],
   "source": [
    "message(\"안녕하세요\") # 이렇게 하면 원래는 안됐음"
   ]
  },
  {
   "cell_type": "code",
   "execution_count": 41,
   "id": "8843f921-eca3-4fe3-8c83-93429f174723",
   "metadata": {},
   "outputs": [],
   "source": [
    "name = \"이이름\" # 전역변수\n",
    "\n",
    "def message(msg): \n",
    "    global name # 전역변수 name을 message 함수 지역내에서 사용하겠다!\n",
    "    \n",
    "    print(f\"{name}님 {msg}\")"
   ]
  },
  {
   "cell_type": "code",
   "execution_count": 42,
   "id": "37f75366-6610-43df-ad43-2ef09b867573",
   "metadata": {},
   "outputs": [
    {
     "name": "stdout",
     "output_type": "stream",
     "text": [
      "이이름님 안녕하세요\n"
     ]
    }
   ],
   "source": [
    "message(\"안녕하세요\")"
   ]
  },
  {
   "cell_type": "code",
   "execution_count": 48,
   "id": "119f6780-0967-42ff-9c70-6776ab5b633f",
   "metadata": {},
   "outputs": [
    {
     "name": "stdout",
     "output_type": "stream",
     "text": [
      "[2, 4, 6, 8, 10]\n"
     ]
    }
   ],
   "source": [
    "nums =  [1, 2, 3, 4 ,5 ,6 ,7 ,8 ,9 ,10]\n",
    "def is_even(num): # 짝수 판별 함수 - 사용자 정의 함수, 일회용으로 사용하는 경우가 많다.\n",
    "    return num%2 ==0\n",
    "\n",
    "even = filter(is_even, nums)\n",
    "even_nums = list(even)\n",
    "print(even_nums)"
   ]
  },
  {
   "cell_type": "code",
   "execution_count": 45,
   "id": "d3a0e61a-9c06-4332-8dda-cbe1aec95d47",
   "metadata": {},
   "outputs": [
    {
     "name": "stdout",
     "output_type": "stream",
     "text": [
      "[2, 4, 6, 8, 10]\n"
     ]
    }
   ],
   "source": [
    "nums = [1, 2, 3, 4, 5, 6, 7, 8, 9, 10]\n",
    "is_even = lambda x : x%2 ==0\n",
    "even = list(filter(is_even, nums))\n",
    "print(even)"
   ]
  },
  {
   "cell_type": "code",
   "execution_count": 46,
   "id": "08b7f72d-4990-48d0-8bc1-2c8992060bc4",
   "metadata": {},
   "outputs": [
    {
     "name": "stdout",
     "output_type": "stream",
     "text": [
      "[2, 4, 6, 8, 10]\n"
     ]
    }
   ],
   "source": [
    "nums = [1, 2, 3, 4, 5, 6, 7, 8, 9, 10]\n",
    "even = list(filter(lambda x: x%2 ==0, nums))\n",
    "print(even)"
   ]
  },
  {
   "cell_type": "code",
   "execution_count": null,
   "id": "161c8009-edfc-4b7a-935c-8e68db677a5b",
   "metadata": {},
   "outputs": [],
   "source": []
  },
  {
   "cell_type": "code",
   "execution_count": 51,
   "id": "e5464fdc-5612-41de-9d57-75a37e98602c",
   "metadata": {},
   "outputs": [
    {
     "name": "stdout",
     "output_type": "stream",
     "text": [
      "[2, 4, 6, 8, 10]\n"
     ]
    }
   ],
   "source": [
    "nums =  [1, 2, 3, 4 ,5 ,6 ,7 ,8 ,9 ,10]\n",
    "def is_even(num): # 짝수 판별 함수 - 사용자 정의 함수, 일회용으로 사용하는 경우가 많다.\n",
    "    return num%2 ==0\n",
    "\n",
    "even = filter(is_even, nums)\n",
    "even_nums = list(even)\n",
    "print(even_nums)"
   ]
  },
  {
   "cell_type": "code",
   "execution_count": null,
   "id": "3d81f8da-5a55-4c8e-9675-c7e35b1f815f",
   "metadata": {},
   "outputs": [],
   "source": []
  },
  {
   "cell_type": "code",
   "execution_count": null,
   "id": "14d3e47a-83da-45b1-a975-e7e42fdde19f",
   "metadata": {},
   "outputs": [],
   "source": []
  }
 ],
 "metadata": {
  "kernelspec": {
   "display_name": "Python 3 (ipykernel)",
   "language": "python",
   "name": "python3"
  },
  "language_info": {
   "codemirror_mode": {
    "name": "ipython",
    "version": 3
   },
   "file_extension": ".py",
   "mimetype": "text/x-python",
   "name": "python",
   "nbconvert_exporter": "python",
   "pygments_lexer": "ipython3",
   "version": "3.12.7"
  }
 },
 "nbformat": 4,
 "nbformat_minor": 5
}
