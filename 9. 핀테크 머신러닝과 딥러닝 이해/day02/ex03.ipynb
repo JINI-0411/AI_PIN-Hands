{
 "cells": [
  {
   "cell_type": "code",
   "execution_count": 2,
   "id": "2f9eb4e4-d781-4195-88e4-1e2244e8f748",
   "metadata": {},
   "outputs": [
    {
     "name": "stdout",
     "output_type": "stream",
     "text": [
      "[(10, 1), (20, 2), (30, 3)]\n"
     ]
    }
   ],
   "source": [
    "nums = list(zip([10,20,30],[1,2,3]))\n",
    "print(nums)"
   ]
  },
  {
   "cell_type": "code",
   "execution_count": 3,
   "id": "9112b568-8d02-426d-90bf-ecfc462bbcf5",
   "metadata": {},
   "outputs": [
    {
     "name": "stdout",
     "output_type": "stream",
     "text": [
      "[[10  1]\n",
      " [20  2]\n",
      " [30  3]]\n"
     ]
    }
   ],
   "source": [
    "# 넘파이 column_stack\n",
    "import numpy as np\n",
    "nums_array = np.column_stack((np.array([10,20,30]), np.array([1,2,3])))\n",
    "print(nums_array)"
   ]
  }
 ],
 "metadata": {
  "kernelspec": {
   "display_name": "Python 3 (ipykernel)",
   "language": "python",
   "name": "python3"
  },
  "language_info": {
   "codemirror_mode": {
    "name": "ipython",
    "version": 3
   },
   "file_extension": ".py",
   "mimetype": "text/x-python",
   "name": "python",
   "nbconvert_exporter": "python",
   "pygments_lexer": "ipython3",
   "version": "3.12.7"
  }
 },
 "nbformat": 4,
 "nbformat_minor": 5
}
