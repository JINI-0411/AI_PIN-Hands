{
 "cells": [
  {
   "cell_type": "code",
   "execution_count": 9,
   "id": "2d199e43-d7b4-4799-ba95-4f8674f15f2e",
   "metadata": {},
   "outputs": [],
   "source": [
    "import numpy as np"
   ]
  },
  {
   "cell_type": "code",
   "execution_count": 11,
   "id": "727053f9-02cb-4801-ac4a-3d87ce14c528",
   "metadata": {},
   "outputs": [],
   "source": [
    "# 브로드 캐스팅\n",
    "nums = np.array([10,20,30,40])"
   ]
  },
  {
   "cell_type": "code",
   "execution_count": 17,
   "id": "f38958d0-0ab0-454f-81de-bf469f78d237",
   "metadata": {},
   "outputs": [
    {
     "name": "stdout",
     "output_type": "stream",
     "text": [
      "[20 40 60 80]\n"
     ]
    }
   ],
   "source": [
    "nums2 = nums *2\n",
    "print(nums2) # 각각 해주는게 브로드 캐스팅!"
   ]
  },
  {
   "cell_type": "code",
   "execution_count": 25,
   "id": "318ebad1-1118-4b72-a62f-c32fa3c01109",
   "metadata": {},
   "outputs": [
    {
     "name": "stdout",
     "output_type": "stream",
     "text": [
      "[ 5 15 25 35]\n"
     ]
    }
   ],
   "source": [
    "nums3 = nums - 5\n",
    "print(nums3)"
   ]
  },
  {
   "cell_type": "code",
   "execution_count": null,
   "id": "c2406396-7b8e-4410-aebe-54dfceec44cd",
   "metadata": {},
   "outputs": [],
   "source": []
  },
  {
   "cell_type": "code",
   "execution_count": 27,
   "id": "7b9f01c0-0be7-4b5d-ae74-3a3f854d25d4",
   "metadata": {},
   "outputs": [
    {
     "name": "stdout",
     "output_type": "stream",
     "text": [
      "[[ 10   1 100]\n",
      " [ 20   2 200]\n",
      " [ 30   3 300]]\n"
     ]
    }
   ],
   "source": [
    "data = np.column_stack(([10,20,30],[1,2,3],[100,200,300]))\n",
    "print(data)"
   ]
  },
  {
   "cell_type": "code",
   "execution_count": null,
   "id": "2aae2be3-aeba-48c2-8be1-af4b0567df2d",
   "metadata": {},
   "outputs": [],
   "source": []
  },
  {
   "cell_type": "code",
   "execution_count": null,
   "id": "064537ac-4f8e-475d-a156-c1622285bbc4",
   "metadata": {},
   "outputs": [],
   "source": []
  }
 ],
 "metadata": {
  "kernelspec": {
   "display_name": "Python 3 (ipykernel)",
   "language": "python",
   "name": "python3"
  },
  "language_info": {
   "codemirror_mode": {
    "name": "ipython",
    "version": 3
   },
   "file_extension": ".py",
   "mimetype": "text/x-python",
   "name": "python",
   "nbconvert_exporter": "python",
   "pygments_lexer": "ipython3",
   "version": "3.12.7"
  }
 },
 "nbformat": 4,
 "nbformat_minor": 5
}
