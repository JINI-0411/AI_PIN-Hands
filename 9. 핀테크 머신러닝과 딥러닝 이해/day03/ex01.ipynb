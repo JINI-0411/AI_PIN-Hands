{
 "cells": [
  {
   "cell_type": "code",
   "execution_count": 23,
   "id": "ac1d58fe-3375-46fd-b389-502b5bf01442",
   "metadata": {},
   "outputs": [],
   "source": [
    "import pandas as pd"
   ]
  },
  {
   "cell_type": "code",
   "execution_count": 24,
   "id": "a05d3b71-692c-4748-a690-339a730f344f",
   "metadata": {},
   "outputs": [
    {
     "data": {
      "text/html": [
       "<div>\n",
       "<style scoped>\n",
       "    .dataframe tbody tr th:only-of-type {\n",
       "        vertical-align: middle;\n",
       "    }\n",
       "\n",
       "    .dataframe tbody tr th {\n",
       "        vertical-align: top;\n",
       "    }\n",
       "\n",
       "    .dataframe thead th {\n",
       "        text-align: right;\n",
       "    }\n",
       "</style>\n",
       "<table border=\"1\" class=\"dataframe\">\n",
       "  <thead>\n",
       "    <tr style=\"text-align: right;\">\n",
       "      <th></th>\n",
       "      <th>length</th>\n",
       "      <th>height</th>\n",
       "      <th>width</th>\n",
       "    </tr>\n",
       "  </thead>\n",
       "  <tbody>\n",
       "    <tr>\n",
       "      <th>0</th>\n",
       "      <td>8.4</td>\n",
       "      <td>2.11</td>\n",
       "      <td>1.41</td>\n",
       "    </tr>\n",
       "    <tr>\n",
       "      <th>1</th>\n",
       "      <td>13.7</td>\n",
       "      <td>3.53</td>\n",
       "      <td>2.00</td>\n",
       "    </tr>\n",
       "    <tr>\n",
       "      <th>2</th>\n",
       "      <td>15.0</td>\n",
       "      <td>3.82</td>\n",
       "      <td>2.43</td>\n",
       "    </tr>\n",
       "    <tr>\n",
       "      <th>3</th>\n",
       "      <td>16.2</td>\n",
       "      <td>4.59</td>\n",
       "      <td>2.63</td>\n",
       "    </tr>\n",
       "    <tr>\n",
       "      <th>4</th>\n",
       "      <td>17.4</td>\n",
       "      <td>4.59</td>\n",
       "      <td>2.94</td>\n",
       "    </tr>\n",
       "  </tbody>\n",
       "</table>\n",
       "</div>"
      ],
      "text/plain": [
       "   length   height   width\n",
       "0     8.4     2.11    1.41\n",
       "1    13.7     3.53    2.00\n",
       "2    15.0     3.82    2.43\n",
       "3    16.2     4.59    2.63\n",
       "4    17.4     4.59    2.94"
      ]
     },
     "execution_count": 24,
     "metadata": {},
     "output_type": "execute_result"
    }
   ],
   "source": [
    "df = pd.read_csv('https://bit.ly/perch_csv_data')\n",
    "df.head() # 처음 5개의 행을 출력"
   ]
  },
  {
   "cell_type": "code",
   "execution_count": 25,
   "id": "bb7a1f6f-e34c-4696-8e97-f4f9cfa7d251",
   "metadata": {},
   "outputs": [
    {
     "name": "stdout",
     "output_type": "stream",
     "text": [
      "[[ 8.4   2.11  1.41]\n",
      " [13.7   3.53  2.  ]\n",
      " [15.    3.82  2.43]\n",
      " [16.2   4.59  2.63]\n",
      " [17.4   4.59  2.94]\n",
      " [18.    5.22  3.32]\n",
      " [18.7   5.2   3.12]\n",
      " [19.    5.64  3.05]\n",
      " [19.6   5.14  3.04]\n",
      " [20.    5.08  2.77]\n",
      " [21.    5.69  3.56]\n",
      " [21.    5.92  3.31]\n",
      " [21.    5.69  3.67]\n",
      " [21.3   6.38  3.53]\n",
      " [22.    6.11  3.41]\n",
      " [22.    5.64  3.52]\n",
      " [22.    6.11  3.52]\n",
      " [22.    5.88  3.52]\n",
      " [22.    5.52  4.  ]\n",
      " [22.5   5.86  3.62]\n",
      " [22.5   6.79  3.62]\n",
      " [22.7   5.95  3.63]\n",
      " [23.    5.22  3.63]\n",
      " [23.5   6.28  3.72]\n",
      " [24.    7.29  3.72]\n",
      " [24.    6.38  3.82]\n",
      " [24.6   6.73  4.17]\n",
      " [25.    6.44  3.68]\n",
      " [25.6   6.56  4.24]\n",
      " [26.5   7.17  4.14]\n",
      " [27.3   8.32  5.14]\n",
      " [27.5   7.17  4.34]\n",
      " [27.5   7.05  4.34]\n",
      " [27.5   7.28  4.57]\n",
      " [28.    7.82  4.2 ]\n",
      " [28.7   7.59  4.64]\n",
      " [30.    7.62  4.77]\n",
      " [32.8  10.03  6.02]\n",
      " [34.5  10.26  6.39]\n",
      " [35.   11.49  7.8 ]\n",
      " [36.5  10.88  6.86]\n",
      " [36.   10.61  6.74]\n",
      " [37.   10.84  6.26]\n",
      " [37.   10.57  6.37]\n",
      " [39.   11.14  7.49]\n",
      " [39.   11.14  6.  ]\n",
      " [39.   12.43  7.35]\n",
      " [40.   11.93  7.11]\n",
      " [40.   11.73  7.22]\n",
      " [40.   12.38  7.46]\n",
      " [40.   11.14  6.63]\n",
      " [42.   12.8   6.87]\n",
      " [43.   11.93  7.28]\n",
      " [43.   12.51  7.42]\n",
      " [43.5  12.6   8.14]\n",
      " [44.   12.49  7.6 ]]\n"
     ]
    }
   ],
   "source": [
    "import numpy as np\n",
    "# 농어의 모든 특성 - 길이, 높이, 너비\n",
    "perch_full = df.to_numpy() # 데이터 프레임 -> 넘파이 배열(//2차원 배열)\n",
    "\n",
    "print(perch_full)"
   ]
  },
  {
   "cell_type": "code",
   "execution_count": 26,
   "id": "bf841ff8-9ffb-40d5-abba-fbfd0634ab8c",
   "metadata": {},
   "outputs": [],
   "source": [
    "perch_weight = np.array(\n",
    "    [5.9, 32.0, 40.0, 51.5, 70.0, 100.0, 78.0, 80.0, 85.0, 85.0,\n",
    "     110.0, 115.0, 125.0, 130.0, 120.0, 120.0, 130.0, 135.0, 110.0,\n",
    "     130.0, 150.0, 145.0, 150.0, 170.0, 225.0, 145.0, 188.0, 180.0,\n",
    "     197.0, 218.0, 300.0, 260.0, 265.0, 250.0, 250.0, 300.0, 320.0,\n",
    "     514.0, 556.0, 840.0, 685.0, 700.0, 700.0, 690.0, 900.0, 650.0,\n",
    "     820.0, 850.0, 900.0, 1015.0, 820.0, 1100.0, 1000.0, 1100.0,\n",
    "     1000.0, 1000.0]\n",
    "     ) # 정답 데이터 - 농어의 길이, 높이, 너비의 특성을 가지고 무게를 예측"
   ]
  },
  {
   "cell_type": "code",
   "execution_count": 27,
   "id": "9ac9bd9d-976d-42c7-bac5-ee5f33d1237f",
   "metadata": {},
   "outputs": [],
   "source": [
    "# 학습 세트, 테스트 세트 분리 // 20%정도가 자동으로 분리될거임\n",
    "from sklearn.model_selection import train_test_split\n",
    "train_input, test_input, train_target, test_target = train_test_split(perch_full, perch_weight)"
   ]
  },
  {
   "cell_type": "code",
   "execution_count": 28,
   "id": "a4f9cb38-235e-4ca3-a68a-3dc2488fd5f7",
   "metadata": {},
   "outputs": [
    {
     "name": "stdout",
     "output_type": "stream",
     "text": [
      "(42, 3) (14, 3)\n"
     ]
    }
   ],
   "source": [
    "print(train_input.shape, test_input.shape)"
   ]
  },
  {
   "cell_type": "code",
   "execution_count": 29,
   "id": "b1f9f426-4f2d-48e8-ba08-7473d89a81c4",
   "metadata": {},
   "outputs": [],
   "source": [
    "# 특성 공학 - 특성을 조합해서 새로운 특성 여러개를 만들어 주는 방법\n",
    "from sklearn.preprocessing import PolynomialFeatures"
   ]
  },
  {
   "cell_type": "code",
   "execution_count": 30,
   "id": "7ab2c778-f783-4434-88b8-dfcd64f41b3b",
   "metadata": {},
   "outputs": [
    {
     "name": "stdout",
     "output_type": "stream",
     "text": [
      "[[2. 3. 4. 6. 9.]]\n"
     ]
    }
   ],
   "source": [
    "poly = PolynomialFeatures(include_bias=False) # inculude_bias - 절편에 곱해지는 1은 제외\n",
    "poly.fit([[2,3]])\n",
    "result = poly.transform([[2,3]])\n",
    "print(result)"
   ]
  },
  {
   "cell_type": "code",
   "execution_count": 31,
   "id": "e6688d72-e719-4007-895d-042a96829f55",
   "metadata": {},
   "outputs": [
    {
     "data": {
      "text/plain": [
       "array(['x0', 'x1', 'x0^2', 'x0 x1', 'x1^2'], dtype=object)"
      ]
     },
     "execution_count": 31,
     "metadata": {},
     "output_type": "execute_result"
    }
   ],
   "source": [
    "poly.get_feature_names_out() # 특성 조합 공식을 확인"
   ]
  },
  {
   "cell_type": "code",
   "execution_count": 32,
   "id": "6641ead7-c391-43ad-94f7-5a6ee5a8ee75",
   "metadata": {},
   "outputs": [
    {
     "name": "stdout",
     "output_type": "stream",
     "text": [
      "(42, 9)\n"
     ]
    }
   ],
   "source": [
    "poly = PolynomialFeatures(include_bias=False)\n",
    "\n",
    "poly.fit(train_input)\n",
    "train_poly = poly.transform(train_input)\n",
    "print(train_poly.shape) # 기존 3개 특성 -> 9로 늘어났음"
   ]
  },
  {
   "cell_type": "code",
   "execution_count": 33,
   "id": "dcd8e6d8-e59b-46ac-be71-e31f114ae0c5",
   "metadata": {},
   "outputs": [
    {
     "name": "stdout",
     "output_type": "stream",
     "text": [
      "(14, 9)\n"
     ]
    }
   ],
   "source": [
    "test_poly=poly.transform(test_input)\n",
    "print(test_poly.shape)"
   ]
  },
  {
   "cell_type": "code",
   "execution_count": 34,
   "id": "67df208b-efd5-47f4-bac3-41be51f070f9",
   "metadata": {},
   "outputs": [
    {
     "name": "stdout",
     "output_type": "stream",
     "text": [
      "0.9945490817302621\n"
     ]
    }
   ],
   "source": [
    "# 다중 회귀 모델 훈련\n",
    "from sklearn.linear_model import LinearRegression\n",
    "\n",
    "lr = LinearRegression()\n",
    "lr.fit(train_poly, train_target)\n",
    "print(lr.score(train_poly, train_target))"
   ]
  },
  {
   "cell_type": "code",
   "execution_count": 35,
   "id": "5da0046c-e97c-4086-bb31-e77feb7d77ed",
   "metadata": {},
   "outputs": [
    {
     "name": "stdout",
     "output_type": "stream",
     "text": [
      "0.9107222005130888\n"
     ]
    }
   ],
   "source": [
    "print(lr.score(test_poly, test_target))"
   ]
  },
  {
   "cell_type": "code",
   "execution_count": 37,
   "id": "57e73b9b-f199-4eb0-b389-4104d08b3f5e",
   "metadata": {},
   "outputs": [],
   "source": [
    "# 무조건 특성 조합이 많을 수록 예측 결정 계수가 높아질까?\n",
    "poly = PolynomialFeatures(degree=5, include_bias=False) # degree - 5 특성 최대 조합 차수를 5차까지 늘린거 // X^5\n",
    "poly.fit(train_input)\n",
    "train_poly = poly.transform(train_input)\n",
    "test_poly = poly.transform(test_input)"
   ]
  },
  {
   "cell_type": "code",
   "execution_count": 38,
   "id": "cf53f1c5-4418-440f-8ab5-dbc8aad84df8",
   "metadata": {},
   "outputs": [
    {
     "name": "stdout",
     "output_type": "stream",
     "text": [
      "(42, 55) (14, 55)\n"
     ]
    }
   ],
   "source": [
    "print(train_poly.shape, test_poly.shape)"
   ]
  },
  {
   "cell_type": "code",
   "execution_count": 42,
   "id": "4a8a7528-c634-499f-99dd-fab9d6f02ab6",
   "metadata": {},
   "outputs": [
    {
     "name": "stdout",
     "output_type": "stream",
     "text": [
      "0.999999999999309\n"
     ]
    }
   ],
   "source": [
    "lr.fit(train_poly, train_target) # 훈련\n",
    "print(lr.score(train_poly, train_target))"
   ]
  },
  {
   "cell_type": "code",
   "execution_count": 43,
   "id": "d3cc6882-afef-4a83-af1d-34c3b207862f",
   "metadata": {},
   "outputs": [
    {
     "name": "stdout",
     "output_type": "stream",
     "text": [
      "-61147.32691492204\n"
     ]
    }
   ],
   "source": [
    "print(lr.score(test_poly, test_target)) # 과대 적합 -> 규제 -> 훈련세트의 결정 계수는 낮추고, 테스트 세트의 결정 계수는 높인다"
   ]
  },
  {
   "cell_type": "code",
   "execution_count": 44,
   "id": "faa6b818-f84b-4bf6-88c3-c2eff4e4ef6d",
   "metadata": {},
   "outputs": [],
   "source": [
    "# 훈련 세트,  테스트 세트 - 표준 점수//로 바꾸기\n",
    "# 표준 점수 특정 특성에 편향된 규제를 하지 않기 위해서!\n",
    "\n",
    "from sklearn.preprocessing import StandardScaler\n",
    "\n",
    "ss = StandardScaler()\n",
    "ss.fit(train_poly)\n",
    "\n",
    "train_scaled = ss.transform(train_poly)\n",
    "test_scaled = ss.transform(test_poly)"
   ]
  },
  {
   "cell_type": "code",
   "execution_count": 47,
   "id": "c228dfbb-c1cd-4840-996d-dfb4caa6c021",
   "metadata": {},
   "outputs": [
    {
     "name": "stdout",
     "output_type": "stream",
     "text": [
      "0.9943770669194479\n"
     ]
    }
   ],
   "source": [
    "# 릿지 모델\n",
    "from sklearn.linear_model import Ridge\n",
    "\n",
    "ridge = Ridge()\n",
    "ridge.fit(train_scaled, train_target)\n",
    "print(ridge.score(train_scaled, train_target))"
   ]
  },
  {
   "cell_type": "code",
   "execution_count": 49,
   "id": "a826c810-3544-4f22-a412-b599900cf80f",
   "metadata": {},
   "outputs": [],
   "source": [
    "# 최적의 alpha 값 찾기 - 하이퍼 파라미터\n",
    "train_score = [] # 훈련 세트 결정 계수\n",
    "test_score = [] # 테스트 세트 결정 계수\n",
    "\n",
    "alpha_list = [0.001, 0.01, 0.1, 1, 10, 100]\n",
    "for alpha in alpha_list:\n",
    "    # 규제 강도(alpha)를 달리해서 Ridge 모델 객체 생성\n",
    "    ridge = Ridge(alpha=alpha)\n",
    "\n",
    "    # 훈련\n",
    "    ridge.fit(train_scaled, train_target)\n",
    "    train_score.append(ridge.score(train_scaled, train_target))\n",
    "    test_score.append(ridge.score(test_scaled, test_target))"
   ]
  },
  {
   "cell_type": "code",
   "execution_count": 50,
   "id": "47b369e4-0f07-4ad8-8515-572fd71a7b26",
   "metadata": {},
   "outputs": [
    {
     "name": "stdout",
     "output_type": "stream",
     "text": [
      "[0.9976004761917913, 0.9968950359767765, 0.9956987661462335, 0.9943770669194479, 0.9901608973195289, 0.9773956521116242]\n"
     ]
    }
   ],
   "source": [
    "print(train_score)"
   ]
  },
  {
   "cell_type": "code",
   "execution_count": 51,
   "id": "ada1a17a-1846-4ca0-8958-945353d89194",
   "metadata": {},
   "outputs": [
    {
     "name": "stdout",
     "output_type": "stream",
     "text": [
      "[0.9246657065390163, 0.9378652688554211, 0.9317004905294892, 0.937066776361688, 0.961516622876436, 0.9609260247933064]\n"
     ]
    }
   ],
   "source": [
    "print(test_score)"
   ]
  },
  {
   "cell_type": "code",
   "execution_count": 52,
   "id": "b0833f0f-6378-4df1-96e0-9cd38cd156c4",
   "metadata": {},
   "outputs": [
    {
     "data": {
      "image/png": "[encoded data removed]",
      "text/plain": [
       "<Figure size 640x480 with 1 Axes>"
      ]
     },
     "metadata": {},
     "output_type": "display_data"
    }
   ],
   "source": [
    "import matplotlib.pyplot as plt\n",
    "\n",
    "plt.plot(np.log10(alpha_list), train_score)\n",
    "plt.plot(np.log10(alpha_list), test_score)\n",
    "plt.xlabel('alpha')\n",
    "plt.ylabel('R^2')\n",
    "plt.show()"
   ]
  },
  {
   "cell_type": "code",
   "execution_count": 53,
   "id": "8449cdac-cd75-43cf-8302-6b837f34e2fc",
   "metadata": {},
   "outputs": [
    {
     "name": "stdout",
     "output_type": "stream",
     "text": [
      "0.9956987661462335\n",
      "0.9317004905294892\n"
     ]
    }
   ],
   "source": [
    "ridge = Ridge(alpha=0.1)\n",
    "ridge.fit(train_scaled, train_target)\n",
    "print(ridge.score(train_scaled, train_target))\n",
    "print(ridge.score(test_scaled, test_target))"
   ]
  },
  {
   "cell_type": "code",
   "execution_count": 65,
   "id": "d2dd975d-3166-4766-9f39-fe7128676da8",
   "metadata": {},
   "outputs": [
    {
     "name": "stdout",
     "output_type": "stream",
     "text": [
      "0.9932940878564536\n"
     ]
    }
   ],
   "source": [
    "# 라쏘 규제 선형 모델\n",
    "from sklearn.linear_model import Lasso\n",
    "\n",
    "lasso = Lasso(max_iter=10000) # 라쏘는 반복이기 때문에 최대 몇번인지 제한을 걸어준거 / 경고가 떠서 이렇게 수정했음\n",
    "lasso.fit(train_scaled, train_target)\n",
    "print(lasso.score(train_scaled, train_target))"
   ]
  },
  {
   "cell_type": "code",
   "execution_count": 66,
   "id": "46afa796-723b-4888-ae24-b72db3772b88",
   "metadata": {},
   "outputs": [
    {
     "name": "stdout",
     "output_type": "stream",
     "text": [
      "0.9397149288677917\n"
     ]
    }
   ],
   "source": [
    "print(lasso.score(test_scaled, test_target))"
   ]
  },
  {
   "cell_type": "code",
   "execution_count": 68,
   "id": "91d9c23e-a5f4-432d-8b27-bcab7ea2bf57",
   "metadata": {},
   "outputs": [
    {
     "name": "stderr",
     "output_type": "stream",
     "text": [
      "D:\\mldl\\Lib\\site-packages\\sklearn\\linear_model\\_coordinate_descent.py:697: ConvergenceWarning: Objective did not converge. You might want to increase the number of iterations, check the scale of the features or consider increasing regularisation. Duality gap: 6.482e+03, tolerance: 4.180e+02\n",
      "  model = cd_fast.enet_coordinate_descent(\n",
      "D:\\mldl\\Lib\\site-packages\\sklearn\\linear_model\\_coordinate_descent.py:697: ConvergenceWarning: Objective did not converge. You might want to increase the number of iterations, check the scale of the features or consider increasing regularisation. Duality gap: 4.326e+03, tolerance: 4.180e+02\n",
      "  model = cd_fast.enet_coordinate_descent(\n"
     ]
    }
   ],
   "source": [
    "train_score = [] # 훈련 세트 결정 계수\n",
    "test_score = [] # 테스트 세트 결정 계수\n",
    "\n",
    "alpha_list = [0.001, 0.01, 0.1, 1, 10, 100]\n",
    "for alpha in alpha_list:\n",
    "    # 규제별 라소 모델 객체\n",
    "    lasso = Lasso(alpha=alpha,max_iter=10000)\n",
    "\n",
    "    # 훈련\n",
    "    lasso.fit(train_scaled, train_target)\n",
    "\n",
    "    train_score.append(lasso.score(train_scaled, train_target))\n",
    "    test_score.append(lasso.score(test_scaled, test_target))"
   ]
  },
  {
   "cell_type": "code",
   "execution_count": 70,
   "id": "333947c4-0194-481d-ba53-ef5d492b9c9d",
   "metadata": {},
   "outputs": [
    {
     "data": {
      "image/png": "[encoded data removed]",
      "text/plain": [
       "<Figure size 640x480 with 1 Axes>"
      ]
     },
     "metadata": {},
     "output_type": "display_data"
    }
   ],
   "source": [
    "plt.plot(np.log10(alpha_list), train_score)\n",
    "plt.plot(np.log10(alpha_list), test_score)\n",
    "plt.xlabel('alpha')\n",
    "plt.ylabel('R^2')\n",
    "plt.show()"
   ]
  },
  {
   "cell_type": "code",
   "execution_count": 71,
   "id": "d448553e-f95b-44b6-88d6-ad7243efdcb9",
   "metadata": {},
   "outputs": [
    {
     "name": "stdout",
     "output_type": "stream",
     "text": [
      "0.9910949823970276\n",
      "0.9468014666054033\n"
     ]
    }
   ],
   "source": [
    "lasso = Lasso(alpha=10, max_iter=10000)\n",
    "lasso.fit(train_scaled, train_target) # 훈련\n",
    "print(lasso.score(train_scaled, train_target)) # 훈련 세트 결정 계수\n",
    "print(lasso.score(test_scaled, test_target)) # 테스트 세트 결정 계수"
   ]
  },
  {
   "cell_type": "code",
   "execution_count": 72,
   "id": "31d8c753-11bf-4fef-ad6f-9029b25f2471",
   "metadata": {},
   "outputs": [
    {
     "name": "stdout",
     "output_type": "stream",
     "text": [
      "(42, 55)\n"
     ]
    }
   ],
   "source": [
    "print(train_scaled.shape)"
   ]
  },
  {
   "cell_type": "code",
   "execution_count": 73,
   "id": "9876b63c-cb22-440e-991f-93ea526a3abe",
   "metadata": {},
   "outputs": [
    {
     "data": {
      "text/plain": [
       "array([  0.        ,   0.        ,   0.        ,   4.49626999,\n",
       "        69.4026113 ,   0.        ,   0.        ,   0.        ,\n",
       "         0.        ,   0.        , 154.11882933,   0.        ,\n",
       "        76.71533839,   0.        ,   0.        ,   0.        ,\n",
       "         0.        ,   0.        ,   0.        ,   0.        ,\n",
       "         0.        ,   0.        ,   0.        ,   0.        ,\n",
       "         0.        ,   0.        ,   0.        ,   0.        ,\n",
       "         0.        ,   0.        ,   0.        ,   0.        ,\n",
       "         0.        ,   0.        ,   0.        ,   0.        ,\n",
       "         0.        ,   0.        ,   0.        ,   0.        ,\n",
       "         0.        ,   0.        ,   0.        ,   0.        ,\n",
       "         0.        ,   0.        ,   0.        ,   0.        ,\n",
       "         0.        ,   0.        ,   0.        ,   0.        ,\n",
       "         0.        ,   0.        ,   0.        ])"
      ]
     },
     "execution_count": 73,
     "metadata": {},
     "output_type": "execute_result"
    }
   ],
   "source": [
    "lasso.coef_ # 기울기"
   ]
  },
  {
   "cell_type": "code",
   "execution_count": 74,
   "id": "695d9f65-1c56-4124-867b-c243d36a9071",
   "metadata": {},
   "outputs": [
    {
     "data": {
      "text/plain": [
       "51"
      ]
     },
     "execution_count": 74,
     "metadata": {},
     "output_type": "execute_result"
    }
   ],
   "source": [
    "np.sum(lasso.coef_ ==0) # 가중치가 0이 된 총 합계 - 특성 중에서 사용되지 않은 특성의 갯수"
   ]
  },
  {
   "cell_type": "code",
   "execution_count": null,
   "id": "f6a18c5a-76ba-4f2f-ac05-7dfb94e4f215",
   "metadata": {},
   "outputs": [],
   "source": []
  },
  {
   "cell_type": "code",
   "execution_count": null,
   "id": "4f688f15-89ab-475d-abb0-eaaae698780b",
   "metadata": {},
   "outputs": [],
   "source": []
  },
  {
   "cell_type": "code",
   "execution_count": null,
   "id": "48dffd90-d7ed-4255-b73a-686de84504a2",
   "metadata": {},
   "outputs": [],
   "source": []
  }
 ],
 "metadata": {
  "kernelspec": {
   "display_name": "Python 3 (ipykernel)",
   "language": "python",
   "name": "python3"
  },
  "language_info": {
   "codemirror_mode": {
    "name": "ipython",
    "version": 3
   },
   "file_extension": ".py",
   "mimetype": "text/x-python",
   "name": "python",
   "nbconvert_exporter": "python",
   "pygments_lexer": "ipython3",
   "version": "3.12.7"
  }
 },
 "nbformat": 4,
 "nbformat_minor": 5
}
