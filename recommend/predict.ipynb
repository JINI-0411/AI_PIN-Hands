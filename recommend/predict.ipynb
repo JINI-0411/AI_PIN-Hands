{
 "cells": [
  {
   "cell_type": "code",
   "execution_count": 5,
   "id": "5d291b36-8f34-4667-aafa-c28a154b0202",
   "metadata": {},
   "outputs": [],
   "source": [
    "from tensorflow import keras\n",
    "import os.path\n",
    "import sys\n",
    "import numpy as np"
   ]
  },
  {
   "cell_type": "code",
   "execution_count": 12,
   "id": "3b60e605-ef7a-4800-983f-013d64612578",
   "metadata": {},
   "outputs": [],
   "source": [
    "if not os.path.isfile(\"best-model.keras\"):\n",
    "    sys.exit(1)\n",
    "\n",
    "model = keras.models.load_model(\"best-model.keras\")"
   ]
  },
  {
   "cell_type": "code",
   "execution_count": 14,
   "id": "671af6f5-05bb-4f19-a413-24781a87c011",
   "metadata": {},
   "outputs": [
    {
     "ename": "NameError",
     "evalue": "name 'f' is not defined",
     "output_type": "error",
     "traceback": [
      "\u001b[1;31m---------------------------------------------------------------------------\u001b[0m",
      "\u001b[1;31mNameError\u001b[0m                                 Traceback (most recent call last)",
      "Cell \u001b[1;32mIn[14], line 3\u001b[0m\n\u001b[0;32m      1\u001b[0m \u001b[38;5;66;03m#test_data = \"\"\"[ 1.23151481,  0.88790998,  1.6140196,   0.94127238,  1.6784415,   1.38504672,\u001b[39;00m\n\u001b[0;32m      2\u001b[0m \u001b[38;5;66;03m#  -1.57161094, -0.65513703,  0.99961796, -0.80484811]\"\"\"\u001b[39;00m\n\u001b[1;32m----> 3\u001b[0m test_data \u001b[38;5;241m=\u001b[39m \u001b[38;5;28meval\u001b[39m(sys\u001b[38;5;241m.\u001b[39margv[\u001b[38;5;241m1\u001b[39m])\n\u001b[0;32m      4\u001b[0m \u001b[38;5;28mprint\u001b[39m(test_data)\n\u001b[0;32m      5\u001b[0m predictions \u001b[38;5;241m=\u001b[39m model\u001b[38;5;241m.\u001b[39mpredict(np\u001b[38;5;241m.\u001b[39marray(test_data))\n",
      "File \u001b[1;32m<string>:1\u001b[0m\n",
      "\u001b[1;31mNameError\u001b[0m: name 'f' is not defined"
     ]
    }
   ],
   "source": [
    "#test_data = \"\"\"[ 1.23151481,  0.88790998,  1.6140196,   0.94127238,  1.6784415,   1.38504672,\n",
    "#  -1.57161094, -0.65513703,  0.99961796, -0.80484811]\"\"\"\n",
    "test_data = eval(sys.argv[1])\n",
    "print(test_data)\n",
    "predictions = model.predict(np.array(test_data))\n",
    "print(predictions.argmax(axis=1)) "
   ]
  },
  {
   "cell_type": "code",
   "execution_count": null,
   "id": "92284d45-b822-4e53-a29d-57f0f8a91de6",
   "metadata": {},
   "outputs": [],
   "source": []
  },
  {
   "cell_type": "code",
   "execution_count": null,
   "id": "7e3367fb-6f55-4bec-9871-c3d34ba83d30",
   "metadata": {},
   "outputs": [],
   "source": []
  },
  {
   "cell_type": "code",
   "execution_count": null,
   "id": "9ac4458a-98b7-4815-b336-61efafbd205a",
   "metadata": {},
   "outputs": [],
   "source": []
  },
  {
   "cell_type": "code",
   "execution_count": null,
   "id": "4e85802d-2c59-48f3-9c52-6b4edc267cfe",
   "metadata": {},
   "outputs": [],
   "source": []
  },
  {
   "cell_type": "code",
   "execution_count": null,
   "id": "8ac396ca-01fa-425b-a2ce-157284b46fc1",
   "metadata": {},
   "outputs": [],
   "source": []
  },
  {
   "cell_type": "code",
   "execution_count": null,
   "id": "6549498b-58b2-44ad-a390-f88e455ec1cb",
   "metadata": {},
   "outputs": [],
   "source": []
  },
  {
   "cell_type": "code",
   "execution_count": null,
   "id": "feb39387-811e-4544-9ad0-d1d838691da4",
   "metadata": {},
   "outputs": [],
   "source": []
  },
  {
   "cell_type": "code",
   "execution_count": null,
   "id": "6b0eefd0-53a4-4b55-ac8f-9dd7ea363d5c",
   "metadata": {},
   "outputs": [],
   "source": []
  },
  {
   "cell_type": "code",
   "execution_count": null,
   "id": "72df87c1-d486-419a-a20b-c8b76aa0a0c4",
   "metadata": {},
   "outputs": [],
   "source": []
  }
 ],
 "metadata": {
  "kernelspec": {
   "display_name": "Python 3 (ipykernel)",
   "language": "python",
   "name": "python3"
  },
  "language_info": {
   "codemirror_mode": {
    "name": "ipython",
    "version": 3
   },
   "file_extension": ".py",
   "mimetype": "text/x-python",
   "name": "python",
   "nbconvert_exporter": "python",
   "pygments_lexer": "ipython3",
   "version": "3.12.7"
  }
 },
 "nbformat": 4,
 "nbformat_minor": 5
}
